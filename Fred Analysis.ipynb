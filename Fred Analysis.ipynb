{
 "cells": [
  {
   "cell_type": "code",
   "execution_count": 1,
   "id": "c842ae64-4502-42d2-aeab-22d1cd96e13c",
   "metadata": {},
   "outputs": [],
   "source": [
    "#!pip install clustergram pandas_profiling scipy sklearn statsmodels IPython dtale matplotlib rpy2 seaborn shap"
   ]
  },
  {
   "cell_type": "code",
   "execution_count": 2,
   "id": "5bf49edd-ccdb-4a5a-9ede-a9b3c081ceb2",
   "metadata": {},
   "outputs": [],
   "source": [
    "#put in ~/.bashrc\n",
    "#LD_PRELOAD=\"/mnt/distvol/R/4.1.2/lib64/R/lib/LibR.so\""
   ]
  },
  {
   "cell_type": "code",
   "execution_count": 3,
   "id": "ab96046e-bb6b-420f-b6b1-9524e60fe678",
   "metadata": {},
   "outputs": [],
   "source": [
    "#from fracdiff import fdiff\n",
    "#import urbangrammar-graphics as ugg\n",
    "%matplotlib inline\n",
    "import os\n",
    "from clustergram import Clustergram\n",
    "from concurrent.futures import wait, ALL_COMPLETED\n",
    "from dask.distributed import Client\n",
    "from dask.distributed import as_completed\n",
    "from dateutil.relativedelta import relativedelta\n",
    "from mlxtend.feature_selection import SequentialFeatureSelector as sfs\n",
    "from mlxtend.plotting import plot_sequential_feature_selection as plot_sfs\n",
    "from mlxtend.feature_selection import SequentialFeatureSelector as SFS\n",
    "from numpy import absolute\n",
    "from numpy import arange\n",
    "from numpy import mean\n",
    "from numpy import std\n",
    "from pandas import read_csv\n",
    "from pandas_profiling import ProfileReport\n",
    "#from rpy2.robjects import pandas2ri\n",
    "from pmdarima.utils import diff_inv\n",
    "from rpy2.robjects.conversion import localconverter\n",
    "from rpy2.robjects.packages import importr\n",
    "from rpy2.rinterface_lib import openrlib\n",
    "from scipy import stats\n",
    "from scipy.cluster.vq import vq\n",
    "from scipy.spatial.distance import cdist, pdist\n",
    "from scipy.special import boxcox, inv_boxcox\n",
    "from scipy.stats import f\n",
    "from sklearn import preprocessing\n",
    "from sklearn.base import TransformerMixin, BaseEstimator\n",
    "from sklearn.cluster import DBSCAN\n",
    "from sklearn.cluster import KMeans\n",
    "from sklearn.decomposition import PCA\n",
    "from sklearn.feature_extraction.text import TfidfVectorizer\n",
    "from sklearn.linear_model import LinearRegression\n",
    "from sklearn.linear_model import ElasticNet\n",
    "from sklearn.linear_model import ElasticNetCV\n",
    "from sklearn.metrics import mean_squared_error\n",
    "from sklearn.metrics import silhouette_samples, silhouette_score\n",
    "from sklearn.model_selection import KFold\n",
    "from sklearn.model_selection import GridSearchCV\n",
    "from sklearn.model_selection import RepeatedKFold\n",
    "from sklearn.model_selection import cross_val_score\n",
    "from sklearn.model_selection import train_test_split\n",
    "from sklearn.model_selection import TimeSeriesSplit\n",
    "from sklearn.preprocessing import *\n",
    "#from sklearn.preprocessing import PowerTransformer\n",
    "#from sklearn.preprocessing import StandardScaler\n",
    "#from sklearn.preprocessing import scale\n",
    "from sklearn.utils import as_float_array\n",
    "from statsmodels.formula.api import ols\n",
    "from statsmodels.tsa.ar_model import AutoReg\n",
    "from statsmodels.tsa.stattools import adfuller\n",
    "from statsmodels.stats.outliers_influence import OLSInfluence\n",
    "import statsmodels.api as sm\n",
    "import IPython\n",
    "import concurrent.futures\n",
    "import dask.dataframe as dd\n",
    "import datetime\n",
    "import dtale\n",
    "import matplotlib.pyplot as plt\n",
    "import numpy as np\n",
    "import os\n",
    "import pandas as pd\n",
    "import pingouin as pg\n",
    "import pmdarima\n",
    "import pycorrelate\n",
    "import random\n",
    "import re\n",
    "import rpy2\n",
    "import rpy2.robjects as ro\n",
    "import rpy2.situation\n",
    "import scipy\n",
    "import seaborn as sn\n",
    "import shap\n",
    "import sklearn\n",
    "import sklearn.linear_model\n",
    "import statsmodels.api as sm\n",
    "import statsmodels.tools\n",
    "import sys\n",
    "import time\n",
    "if not sys.warnoptions:\n",
    "\timport warnings\n",
    "\twarnings.simplefilter(\"ignore\")\n"
   ]
  },
  {
   "cell_type": "code",
   "execution_count": 4,
   "id": "693a8c73-5c94-4d9a-bf1b-9ffbe6836975",
   "metadata": {},
   "outputs": [],
   "source": [
    "#c = get_config()\n",
    "libpath = os.environ.get('LD_LIBRARY_PATH', '')\n",
    "os.environ['LD_LIBRARY_PATH'] = (\n",
    "    rpy2.situation.r_ld_library_path_from_subprocess(openrlib.R_HOME) +\n",
    "    libpath\n",
    ")"
   ]
  },
  {
   "cell_type": "code",
   "execution_count": 5,
   "id": "c465a19f-5039-4627-8b7b-23d0b18f6017",
   "metadata": {},
   "outputs": [],
   "source": [
    "def regress (dd_df):\n",
    "    \n",
    "    lr = LinearRegression()\n",
    "    print(\"y needs to be named 'target', regress only uses the variable names, it doesn't use index's.  You apply that using .fit on this functions return\")\n",
    "    #dd_df = data_final\n",
    "    variables=dd_df.columns\n",
    "    target = variables[0]\n",
    "    te = pd.DataFrame(dd_df['target']) \n",
    "    te.index = ([*dd_df.index])\n",
    "    #te.columns = ['target']\n",
    "    col_names = variables[~variables.isin(['target'])].ravel()\n",
    "\n",
    "    s_f_s = sfs(lr, \n",
    "              k_features=np.int(len(col_names)*.05), \n",
    "              forward=True, \n",
    "              floating=True, \n",
    "              scoring='neg_mean_absolute_percentage_error',\n",
    "              n_jobs=-1,\n",
    "              cv=5)\n",
    "\n",
    "    return (s_f_s)\n",
    "\n",
    "def last_day_of_month(date):\n",
    "    return date.replace(day=1) + relativedelta(months=1) - relativedelta(days=1)\n",
    "\n",
    "def findknee(xdata):\n",
    "    rate_of_change=(xdata[0]-xdata[-1])/(len(xdata)-1)\n",
    "    #print(rate_of_change)\n",
    "    delta = xdata-xdata[-1]\n",
    "    deltas = []\n",
    "    deltas.append(delta[0])\n",
    "    for d in range(1,len(xdata)):\n",
    "        deltas.append(deltas[d-1]-rate_of_change)\n",
    "    #print(deltas)\n",
    "    for d in range(0,len(xdata)):\n",
    "        deltas[d]=delta[d]-deltas[d]\n",
    "    return(np.abs(deltas))\n",
    "    \n",
    "def MAPE(Y_actual,Y_Predicted):\n",
    "    mape = np.mean(np.abs((Y_actual - Y_Predicted)/Y_actual))*100\n",
    "    return mape\n",
    "\n",
    "def formula_from_cols(df, y):\n",
    "    return y + ' ~ ' + ' + '.join([col for col in df.columns if not col==y])\n",
    "\n",
    "def testNormal (x):    \n",
    "    \n",
    "    k2, p = stats.normaltest(x)\n",
    "    alpha = .001\n",
    "    #print(\"p = {:g}\".format(p))    \n",
    "    if p < alpha:  # null hypothesis: x comes from a normal distribution\n",
    "        #print(p)\n",
    "        #print(alpha)\n",
    "        print(\"The null hypothesis can be rejected\")\n",
    "        xt, _ = stats.yeojohnson(x)\n",
    "        #xt, _ = stats.boxcox(x)        \n",
    "        print(_)\n",
    "        xt = pd.DataFrame(xt)\n",
    "        \n",
    "        return _, pd.DataFrame(xt).set_index(x.index)\n",
    "    else:\n",
    "        print(\"The null hypothesis cannot be rejected\")    \n",
    "        return 1, pd.DataFrame(x)\n",
    "\n",
    "def inverse_boxcox (data, lambdas):\n",
    "    power = PowerTransformer(method='yeo-johnson')\n",
    "    power.lambdas_ = lambdas.values\n",
    "    return(power.inverse_transform([data]))\n",
    "    #return inv_boxcox(data, lambdas.values)\n",
    "    \n",
    "def transform_boxcox_l(data, l_):\n",
    "    transformed = pd.DataFrame()\n",
    "\n",
    "    for i in range(0,len(data.columns)):\n",
    "        #print(i)\n",
    "        if l_.iloc[i].values == 1:\n",
    "            inner_scale = data.iloc[:,i]            \n",
    "        else:\n",
    "            inner_scale = pd.DataFrame(stats.yeojohnson((data.iloc[:,i]), lmbda=l_.iloc[i].values))\n",
    "            \n",
    "        inner_scale.index = data.index\n",
    "        transformed = pd.concat([transformed,inner_scale],axis=1)\n",
    "        \n",
    "    transformed.columns = data.columns\n",
    "    return transformed\n",
    "\n",
    "def transform_boxcox (data):\n",
    "    transformed = pd.DataFrame()\n",
    "    transformed_lambdas = pd.DataFrame()\n",
    "\n",
    "    for i in range(0,len(data.columns)):\n",
    "        l, inner_scale = testNormal(data.iloc[:,i])\n",
    "        inner_scale.set_index(data.index)\n",
    "\n",
    "        transformed_lambdas = pd.concat([transformed_lambdas,pd.DataFrame(pd.Series(l))],axis=0)\n",
    "        transformed = pd.concat([transformed,inner_scale],axis=1)\n",
    "        \n",
    "    transformed.columns = data.columns\n",
    "    return transformed, transformed_lambdas\n",
    "\n",
    "def inverse_yeo(og, data_, lambda_):\n",
    "    values = []\n",
    "    for i in range(0,len(og)):\n",
    "        X = og[i]\n",
    "        X_trans = data_[i]\n",
    "        if X >= 0 and lambda_ == 0:\n",
    "            X = exp(X_trans) - 1\n",
    "        elif X >= 0 and lambda_ != 0:\n",
    "            X = (X_trans * lambda_ + 1) ** (1 / lambda_) - 1\n",
    "        elif X < 0 and lambda_ != 2:\n",
    "            X = 1 - (-(2 - lambda_) * X_trans + 1) ** (1 / (2 - lambda_))\n",
    "        elif X < 0 and lambda_ == 2:\n",
    "            X = 1 - exp(-X_trans)\n",
    "        \n",
    "        values.append(X)\n",
    "    return(pd.DataFrame(values))\n",
    "\n",
    "def revert_yeo (og, data_, lambdas):\n",
    "    reverted = pd.DataFrame()\n",
    "\n",
    "    for i in range(0,len(data_.columns)):        \n",
    "        if lambdas.iloc[i].values == 1 :\n",
    "            revert = data_.iloc[:,i]\n",
    "        else:\n",
    "            p#ower = PowerTransformer(method='yeo-johnson')\n",
    "            #power.lambdas_ = lambdas.iloc[i].values\n",
    "            #revert = pd.DataFrame(power.inverse_transform([data.iloc[:,i].values]))\n",
    "            #return inv_boxcox(data, lambdas.values)\n",
    "            revert = pd.DataFrame(inverse_yeo(og.iloc[:,i].values,data_.iloc[:,i].values, lambdas.iloc[i].values))            \n",
    "        revert.index = data_.index\n",
    "        reverted = pd.concat([reverted,revert],axis=1)\n",
    "        \n",
    "    reverted.columns = data_.columns\n",
    "    return reverted\n",
    "\n",
    "class ZCA(BaseEstimator, TransformerMixin):\n",
    "  def __init__(self, regularization=1e-5, copy=False):\n",
    "      self.regularization = regularization\n",
    "      self.copy = copy\n",
    "  def fit(self, X, y=None):\n",
    "      X = as_float_array(X, copy=self.copy)\n",
    "      self.mean_ = np.mean(X, axis=0)\n",
    "      X = X - self.mean_\n",
    "      sigma = np.dot(X.T, X) / (X.shape[0] - 1)\n",
    "      U, S, V = np.linalg.svd(sigma)\n",
    "      tmp = np.dot(U, np.diag(1 / np.sqrt(S + self.regularization)))\n",
    "      self.components_ = np.dot(tmp, U.T)\n",
    "      return self\n",
    "  def transform(self, X):\n",
    "      X_transformed = X - self.mean_\n",
    "      X_transformed = np.dot(X_transformed, self.components_.T)\n",
    "      return X_transformed\n",
    "\n",
    "def crosscorrelation(x, y, maxlag, mode='corr'):\n",
    "    \"\"\"\n",
    "    Cross correlation with a maximum number of lags.\n",
    "\n",
    "    `x` and `y` must be one-dimensional numpy arrays with the same length.\n",
    "\n",
    "    This computes the same result as\n",
    "        numpy.correlate(x, y, mode='full')[len(a)-maxlag-1:len(a)+maxlag]\n",
    "\n",
    "    The return vaue has length 2*maxlag + 1.\n",
    "    \"\"\"\n",
    "    py = np.pad(y.conj(), 2*maxlag, mode='constant')\n",
    "    T = np.lib.stride_tricks.as_strided(py[2*maxlag:], shape=(2*maxlag+1, len(y) + 2*maxlag),\n",
    "                   strides=(-py.strides[0], py.strides[0]))\n",
    "    px = np.pad(x, maxlag, mode='constant')\n",
    "    if mode == 'dot':       # get lagged dot product\n",
    "        return T.dot(px)\n",
    "    elif mode == 'corr':    # gets Pearson correlation\n",
    "        return (T.dot(px)/px.size - (T.mean(axis=1)*px.mean())) / \\\n",
    "               (np.std(T, axis=1) * np.std(px)) \n",
    "    \n",
    "def ret_ccf(npa_):\n",
    "    y_name = npa_[0]\n",
    "    x_name = npa_[1]\n",
    "    index = npa_[2]\n",
    "    \n",
    "    data = cleaned.loc[index].dropna()\n",
    "    \n",
    "    y = np.array(data.iloc[:,data.columns==y_name]).ravel()\n",
    "    \n",
    "    x = np.array(data.iloc[:,data.columns==x_name]).ravel()\n",
    "    #print(x)\n",
    "    #ccf = statsmodels.tsa.stattools.ccf(x,y)\n",
    "    ccf = crosscorrelation(x,y, ccf_max_lag, mode='corr')\n",
    "    #print(ccf)\n",
    "    return([y_name,x_name,ccf])\n",
    "\n",
    "def train(partition):\n",
    "    est = LinearRegression()\n",
    "    est.fit(partition[New_Names].values, partition['target'])\n",
    "    return est\n",
    "\n",
    "    \n",
    "    '''\n",
    "    \n",
    "def nv_diff_sets(v_of_i,dataset,f_casts):\n",
    "\n",
    "  s_=sndif_[which(colnames(raw)==var_of_int)]\n",
    "  d_=ndif_[which(colnames(raw)==var_of_int)]\n",
    "  \n",
    "  startRow = c()\n",
    "  for (r in rownames(dataset[1:d_,,drop=FALSE])):\n",
    "    startRow = c(startRow,which(rownames(raw)==r))\n",
    "  \n",
    "  data_ = c(na.omit(c(dataset[,var_of_int], f_casts)))\n",
    "  \n",
    "  if(s_==0):\n",
    "    inv_d = diffinv(data_,differences=d_,xi=raw[startRow,var_of_int])\n",
    "  else:  \n",
    "    inv_d = diffinv(diffinv(data_,differences = d_, xi=raw[startRow,var_of_int]), differences = s_,xi=raw[startRow:(startRow+season-1),var_of_int])\n",
    "    \n",
    "  return(inv_d)\n",
    "'''\n",
    "\n",
    "def lagpad(x, k):\n",
    "    length=np.full(abs(k), np.NaN)\n",
    "    #print(length)\n",
    "    #k=k-1\n",
    "    if (k>0):\n",
    "        result = np.concatenate([length,x[0:(len(x)-k)]])\n",
    "    elif (k<0):\n",
    "        result= np.concatenate([(x[abs(k):(len(x))]),length])\n",
    "    else:\n",
    "        result= x\n",
    "    return(result)\n",
    "\n",
    "def lag(data):\n",
    "    return lagpad(data,1)\n",
    "\n",
    "def sndif_(npa_):\n",
    "    index = npa_[2]\n",
    "    #print(index)\n",
    "    data = raw_int[npa_[0]].loc[index]\n",
    "    #print(data)\n",
    "    return(pmdarima.arima.nsdiffs(data.dropna(),m=npa_[1]))\n",
    "\n",
    "def ndif_(npa_):\n",
    "    index = npa_[1]\n",
    "    data = raw_int[npa_[0]].loc[index]\n",
    "\n",
    "    score = pmdarima.arima.ndiffs(data.dropna())\n",
    "    \n",
    "    if(score==0):\n",
    "        score = 1\n",
    "    return(score)\n",
    "\n",
    "def clientFunction(function_name,npa):\n",
    "    client = Client('192.168.3.100:8786',timeout=3)\n",
    "    future = client.map(function_name,npa)\n",
    "\n",
    "    results = []\n",
    "    for f in as_completed(future):\n",
    "        if(f.status==\"error\"):\n",
    "            results.append(\"error\")\n",
    "        else:\n",
    "            results.append(f.result())   \n",
    "\n",
    "    client.close()\n",
    "\n",
    "    return results\n",
    "\n",
    "def restartClientFunction():\n",
    "    client = Client('192.168.3.100:8786',timeout=3)\n",
    "    client.restart()\n",
    "    client.close()\n",
    "\n",
    "def ts_cv_split (dataset):\n",
    "    #rmse = []\n",
    "\n",
    "    both_ = []\n",
    "    #train_ = []\n",
    "    #test_ = []\n",
    "    for train_index, test_index in tscv.split(outer_dataset.index):\n",
    "        #train_.append(train_index)\n",
    "        #test_.append(test_index)\n",
    "        both_.append([train_index,test_index])    \n",
    "    return(both_)\n",
    "\n",
    "def return_ts_cv_data (indexes):\n",
    "    dataset=outer_dataset\n",
    "    #print(indexes[0])\n",
    "    return([dataset.iloc[indexes[0]],dataset.iloc[indexes[1]]])\n",
    "\n",
    "def cv_pcor_check (npa_):\n",
    "    \n",
    "    #data = npa_\n",
    "    n = npa_[2]\n",
    "    New_Names_testing = list(np.array(New_Names)[(np.array(New_Names)!=n)])\n",
    "    #print(npa_[0])\n",
    "    \n",
    "    #dataset= outer_dataset\n",
    "    #train_index = npa_[0]\n",
    "    #print(train_index)\n",
    "    #test_index = npa_[1]\n",
    "    \n",
    "    #I don't need it to do training/test splits, but I had advanced ideas that would apply linear models to a test partition and go with the best error reduction... \n",
    "    # but partial correlations are just that except they don't take into consideration training/test partitions\n",
    "\n",
    "    #target.iloc[training].iloc[train_index]\n",
    "    subset_train = npa_[0]#dataset.iloc[train_index]\n",
    "    train_index = subset_train.index\n",
    "    subset_train = subset_train.dropna()\n",
    "    subset_test = npa_[1]#dataset.iloc[test_index]\n",
    "    #return(subset_test)\n",
    "    test_index = subset_test.index\n",
    "    subset_test = subset_test.dropna()\n",
    "    \n",
    "    y_reg_train_no_x = LinearRegression().fit(subset_train[New_Names_testing], subset_train['target'])\n",
    "    y_fore_no_x = y_reg_train_no_x.predict(subset_test[New_Names_testing])\n",
    "    y_resid_no_x = y_fore_no_x.ravel()-subset_test['target']\n",
    "    \n",
    "    x_reg_train_no_x = LinearRegression().fit(subset_train[New_Names_testing], subset_train[n])\n",
    "    x_fore_no_x = x_reg_train_no_x.predict(subset_test[New_Names_testing])\n",
    "    x_resid_no_x = x_fore_no_x.ravel()-subset_test[n]\n",
    "    \n",
    "    cor_resid = pd.concat([pd.DataFrame(y_resid_no_x),pd.DataFrame(x_resid_no_x)],axis=1).corr()\n",
    "    #model_name = ols(formula_from_cols(subset, 'target'),data=data_final_dask_w_y[subset.columns].compute().iloc[train_index]).fit()\n",
    "    #print(model_name.summary())\n",
    "\n",
    "    #skip y and states\n",
    "    #set_ = subset.loc[:, ~subset.columns.isin([target])].columns.tolist()\n",
    "    \n",
    "    c_value = np.array(cor_resid).ravel()[1]\n",
    "    \n",
    "    return(c_value)\n",
    "\n",
    "#correlation p values\n",
    "def pvalues(n):\n",
    "    #n = New_Names[0]\n",
    "    New_Names_testing = list(np.array(New_Names)[(np.array(New_Names)!=n)])\n",
    "\n",
    "    p_values = pd.DataFrame()\n",
    "    #inner_c_values = []\n",
    "\n",
    "    #outer_dataset is derived from trainings\n",
    "    indexes = ts_cv_split(outer_dataset)\n",
    "    \n",
    "    data = clientFunction(return_ts_cv_data,indexes)\n",
    "    #print(data)\n",
    "    #print(data)\n",
    "    new_data = []\n",
    "    \n",
    "    for d in data:\n",
    "        #print(d[0])\n",
    "        #print(d[1])\n",
    "        #print(n)\n",
    "        new_data.append([d[0],d[1],n])\n",
    "    #inner_c_values = []\n",
    "    #print(new_data[0][0])\n",
    "    #print(cv_pcor_check(new_data[0]))\n",
    "    #here test against holdout data is done\n",
    "    inner_c_values = clientFunction(cv_pcor_check,new_data)\n",
    "    print(inner_c_values)\n",
    "    #loops\n",
    "    \n",
    "    #for d in data:\n",
    "        #inner_c_values.append(cv_pcor_check(d))\n",
    "\n",
    "    n_ = len(indexes[1][0]) \n",
    "\n",
    "    dist = scipy.stats.beta(n_/2 - 1, n_/2 - 1, loc=-1, scale=2)\n",
    "    p_value = 2*dist.cdf(-abs(np.mean(inner_c_values)))\n",
    "    temp = pd.DataFrame([chosen,n,p_value]).T\n",
    "    temp.columns = ['target','test','p']\n",
    "\n",
    "    if(np.isnan(p_value)):\n",
    "        #print(n)\n",
    "        #print(inner_c_values)\n",
    "        p_value = 0\n",
    "    #p_values = pd.concat([p_values,temp],axis=0)\n",
    "    return(p_value)\n",
    "\n",
    "def y_subset(df):\n",
    "    \n",
    "    X = list ()\n",
    "    \n",
    "    for var_pos in range(0,len(df.columns)):\n",
    "        variables=df.columns\n",
    "        target=variables[var_pos]\n",
    "        #print(target)\n",
    "        #print(variables.isin([target]))\n",
    "        temp = pd.concat([pd.DataFrame(df[target]),df.loc[:, ~df.columns.isin([target])]],axis=1)\n",
    "        #print(temp)\n",
    "        X.append(temp)\n",
    "    return(X)\n",
    "\n",
    "def undiff(data, seasonal, nonseasonal, xi):\n",
    "    \n",
    "    print(\"you have to know what xi for which use case you are going to use\")\n",
    "    \n",
    "    #nonseasonal\n",
    "    if(nonseasonal!=0 and seasonal==0):\n",
    "        temp = np.concatenate([np.array(xi),np.array(data)])\n",
    "        temp_ = diff_inv(temp,1,nonseasonal)\n",
    "        return(temp_[-len(data):])\n",
    "        \n",
    "    #seasonal\n",
    "    if(seasonal!=0 and nonseasonal == 0):\n",
    "        temp = np.concatenate([np.array(xi),np.array(data)])\n",
    "        temp_ = diff_inv(temp,season,1)\n",
    "        return(temp_[-len(data):])\n",
    "    \n",
    "    #both\n",
    "    if(seasonal==1 and nonseasonal == 1):\n",
    "        \n",
    "        '''\n",
    "        temp = np.concatenate([np.array(xi),np.array(data)])\n",
    "        #print(temp)\n",
    "        temp_ = temp\n",
    "        \n",
    "        print(type(xi))\n",
    "        initial_non_seasonal_delta = xi.iloc[season+nonseasonal]-xi.iloc[season]\n",
    "        print(initial_non_seasonal_delta)\n",
    "        \n",
    "        initial_seasonal_delta = xi.iloc[season]-xi.iloc[0]\n",
    "        #print(initial_seasonal_delta)\n",
    "        s_diffed_cat = np.concatenate([[np.array(initial_seasonal_delta)],np.array(temp_)])\n",
    "\n",
    "        ns_undiffed = diff_inv(s_diffed_cat,1,1)[-len(temp_):]\n",
    "\n",
    "        ns_diffed_cat = np.concatenate([np.array(xi[1:(season+1)]),np.array(ns_undiffed)])\n",
    "        s_undiffed = diff_inv(ns_diffed_cat,season,1)[-len(ns_undiffed):]\n",
    "\n",
    "        return(s_undiffed[-len(data):])\n",
    "        '''\n",
    "                #temp = data\n",
    "\n",
    "        temp_ = np.concatenate([np.array(xi),np.array(data)])\n",
    "        \n",
    "        initial_seasonal_delta = xi.iloc[season]-xi.iloc[0]\n",
    "        s_diffed_cat = np.concatenate([[np.array(initial_seasonal_delta)],np.array(data.dropna())])\n",
    "\n",
    "        ns_undiffed = diff_inv(s_diffed_cat,1,1)[-len(temp_):]\n",
    "\n",
    "        ns_diffed_cat = np.concatenate([np.array(xi[1:(season+1)]),np.array(ns_undiffed)])\n",
    "        s_undiffed = diff_inv(ns_diffed_cat,season,1)[-len(ns_undiffed):]\n",
    "\n",
    "        return(s_undiffed[-len(data):])\n",
    "\n",
    "    #non seasonal\n",
    "    #undiff(temp_test['target'].dropna(), 0, nonseasonal,[raw_int[chosen].loc[temp_train['target'].index[-1]]])\n",
    "    #test\n",
    "    #undiff(temp_test[chosen],seasonal,nonseasonal,raw_int[chosen].loc[temp_train['target'].index[-1:]])\n",
    "    #train\n",
    "    #train_prior_date = raw_int[chosen].index[np.argwhere(data_final.index==temp_train['target'].index[0]).ravel()[0]-nonseasonal]\n",
    "    #train_xi=[raw_int[chosen].loc[train_prior_date]]\n",
    "    #undiff(temp_train['target'], seasonal, nonseasonal,xi)\n",
    "\n",
    "    #seasonal\n",
    "    #undiff(raw_int[chosen].diff(periods=4).dropna(),1,0,raw_int[chosen][0:season])\n",
    "\n",
    "    #non seasonal and seasonal\n",
    "    #undiff(raw_int[chosen].diff(periods=4).diff().dropna(),seasonal,nonseasonal,raw_int[chosen][0:season+nonseasonal])\n",
    "\n",
    "def difference(data, seasonal, nonseasonal):\n",
    "\n",
    "    if seasonal > 0:\n",
    "        return(data.diff(periods=season).diff(nonseasonal))\n",
    "    elif season > 0:\n",
    "        return(data.diff(nonseasonal))\n",
    "    else:\n",
    "        return(data)\n",
    "    "
   ]
  },
  {
   "cell_type": "code",
   "execution_count": null,
   "id": "1f8ef083-5f57-410b-8c5a-0b476293b4e7",
   "metadata": {},
   "outputs": [],
   "source": []
  },
  {
   "cell_type": "code",
   "execution_count": null,
   "id": "a4f6b876-1953-4937-bc06-3c05123d53b8",
   "metadata": {},
   "outputs": [],
   "source": []
  },
  {
   "cell_type": "code",
   "execution_count": 6,
   "id": "3e958a51-c9e2-4aa4-a56a-fa7b21fef44d",
   "metadata": {},
   "outputs": [],
   "source": [
    "numCV = 5\n",
    "tscv = TimeSeriesSplit(n_splits = 5)"
   ]
  },
  {
   "cell_type": "code",
   "execution_count": null,
   "id": "c33a75df-bb32-49a6-9fb6-1275c50118bf",
   "metadata": {},
   "outputs": [],
   "source": []
  },
  {
   "cell_type": "code",
   "execution_count": 7,
   "id": "3a8522fc-a4da-4a03-a113-ab647a07910d",
   "metadata": {},
   "outputs": [],
   "source": [
    "raw = pd.read_csv(\"all_data.csv\",index_col=0)\n",
    "raw.index = pd.to_datetime(raw.index)\n",
    "\n",
    "#fillna(method='bfill')\n",
    "raw_int = raw.interpolate(method='time').dropna()\n"
   ]
  },
  {
   "cell_type": "code",
   "execution_count": null,
   "id": "97f46ab1-885b-445b-aad6-d4216c46acd8",
   "metadata": {},
   "outputs": [],
   "source": []
  },
  {
   "cell_type": "code",
   "execution_count": 8,
   "id": "e381b0b6-e08c-4b8e-ab95-f18116a375e8",
   "metadata": {},
   "outputs": [],
   "source": [
    "indexes = train_test_split(raw_int.index, test_size=.33, random_state=0, shuffle=False)\n",
    "\n",
    "test_sets = []\n",
    "\n",
    "for i in indexes:\n",
    "    test_sets.append(raw_int.index.difference(i))\n",
    "    \n",
    "training = indexes[0]\n",
    "testing = indexes[1]"
   ]
  },
  {
   "cell_type": "code",
   "execution_count": 9,
   "id": "be31cb10-77cb-49e6-95fe-daf9070147a7",
   "metadata": {},
   "outputs": [
    {
     "data": {
      "text/plain": [
       "DatetimeIndex(['2008-03-31', '2008-06-30', '2008-09-30', '2008-12-31',\n",
       "               '2009-03-31', '2009-06-30', '2009-09-30', '2009-12-31',\n",
       "               '2010-03-31', '2010-06-30', '2010-09-30', '2010-12-31',\n",
       "               '2011-03-31', '2011-06-30', '2011-09-30', '2011-12-31',\n",
       "               '2012-03-31', '2012-06-30', '2012-09-30', '2012-12-31',\n",
       "               '2013-03-31', '2013-06-30', '2013-09-30', '2013-12-31',\n",
       "               '2014-03-31', '2014-06-30', '2014-09-30', '2014-12-31',\n",
       "               '2015-03-31', '2015-06-30', '2015-09-30', '2015-12-31',\n",
       "               '2016-03-31', '2016-06-30', '2016-09-30', '2016-12-31'],\n",
       "              dtype='datetime64[ns]', name='Date', freq=None)"
      ]
     },
     "execution_count": 9,
     "metadata": {},
     "output_type": "execute_result"
    }
   ],
   "source": [
    "training"
   ]
  },
  {
   "cell_type": "code",
   "execution_count": 10,
   "id": "9539ddc5-f4d2-405a-b6b5-463192afa593",
   "metadata": {},
   "outputs": [],
   "source": [
    "#delta = (raw_int-raw_int.shift()).dropna()\n",
    "#raw_delta = (raw_int - raw_int.apply(lag,0)).dropna()\n",
    "#raw_delta.head()\n",
    "\n",
    "#raw_delta.isna().sum().sum()"
   ]
  },
  {
   "cell_type": "code",
   "execution_count": 11,
   "id": "c4cd80bd-da12-4330-bb5d-fa81b6a9eac2",
   "metadata": {},
   "outputs": [
    {
     "data": {
      "text/plain": [
       "DatetimeIndex(['2017-03-31', '2017-06-30', '2017-09-30', '2017-12-31',\n",
       "               '2018-03-31', '2018-06-30', '2018-09-30', '2018-12-31',\n",
       "               '2019-03-31', '2019-06-30', '2019-09-30', '2019-12-31',\n",
       "               '2020-03-31', '2020-06-30', '2020-09-30', '2020-12-31',\n",
       "               '2021-03-31', '2021-06-30', '2021-09-30'],\n",
       "              dtype='datetime64[ns]', name='Date', freq=None)"
      ]
     },
     "execution_count": 11,
     "metadata": {},
     "output_type": "execute_result"
    }
   ],
   "source": [
    "testing"
   ]
  },
  {
   "cell_type": "code",
   "execution_count": 12,
   "id": "215c3655-065a-4b5f-bf22-1f20181c718e",
   "metadata": {},
   "outputs": [],
   "source": [
    "\n",
    "#for i in range(0,len(raw_int.columns)):\n",
    "        \n",
    "#np.max(sndif)"
   ]
  },
  {
   "cell_type": "code",
   "execution_count": 13,
   "id": "bb95b5fa-44cc-4ea7-adb1-7f21bd8b1f26",
   "metadata": {},
   "outputs": [],
   "source": [
    "#raw_int.diff().dropna().apply(pmdarima.arima.nsdiffs(m=4))\n",
    "\n",
    "sndif = []\n",
    "\n",
    "season = 4\n",
    "maxn = season\n",
    "\n",
    "npa = []\n",
    "\n",
    "for s in range(0,len(raw_int.columns)):\n",
    "    npa.append([raw_int.columns[s],maxn,training])\n",
    "    \n",
    "sndif = clientFunction(sndif_,npa)    "
   ]
  },
  {
   "cell_type": "code",
   "execution_count": 14,
   "id": "2129f972-961c-4202-aae0-d6d9b3445422",
   "metadata": {},
   "outputs": [],
   "source": [
    "#sndif_(npa[0])\n",
    "#sndif"
   ]
  },
  {
   "cell_type": "code",
   "execution_count": 15,
   "id": "ee439e23-992e-4dce-8cad-524c2f95eed3",
   "metadata": {},
   "outputs": [],
   "source": [
    "ndif = []\n",
    "\n",
    "npa = []\n",
    "\n",
    "for s in range(0,len(raw_int.columns)):\n",
    "    npa.append([raw_int.columns[s],training])\n",
    "    \n",
    "ndif = clientFunction(ndif_,npa)           "
   ]
  },
  {
   "cell_type": "code",
   "execution_count": null,
   "id": "8556689a-0f4e-4111-a5fa-30da2d1985da",
   "metadata": {},
   "outputs": [],
   "source": []
  },
  {
   "cell_type": "code",
   "execution_count": 16,
   "id": "52aaa60d-8804-4476-af02-bc5813637247",
   "metadata": {},
   "outputs": [],
   "source": [
    "#doesn't preserve na's...\n",
    "#len(pmdarima.utils.diff(temp,1,1).ravel())\n",
    "\n",
    "deseasoned = pd.DataFrame()\n",
    "for i in range(0,len(raw_int.columns)):\n",
    "    if(sndif[i]*season == 0):\n",
    "        temp = raw_int.iloc[:,[i]]\n",
    "    else:\n",
    "        temp = raw_int.iloc[:,[i]]\n",
    "        if(sndif[i]>0):\n",
    "            for d in range(0,sndif[i]):\n",
    "                temp = pd.DataFrame(temp.values.ravel()-lagpad(temp.values.ravel(),1*season)).set_index(temp.index)\n",
    "                temp.columns = raw_int.iloc[:,[i]].columns\n",
    "    deseasoned = pd.concat([deseasoned,temp],axis=1)\n"
   ]
  },
  {
   "cell_type": "code",
   "execution_count": 17,
   "id": "e9f2455f-2517-4844-a92d-f0870c4ebfcd",
   "metadata": {},
   "outputs": [],
   "source": [
    "#for d in deseasoned.columns:\n",
    "    #print(d)"
   ]
  },
  {
   "cell_type": "code",
   "execution_count": null,
   "id": "3876d330-9fc9-484b-8be9-562cebe91ef3",
   "metadata": {},
   "outputs": [],
   "source": []
  },
  {
   "cell_type": "code",
   "execution_count": 18,
   "id": "211bbabb-94ff-47b2-8ee3-56fe70ff46c0",
   "metadata": {},
   "outputs": [],
   "source": [
    "deseasoned_differenced = pd.DataFrame()\n",
    "\n",
    "for i in range(0,len(raw_int.columns)):\n",
    "    temp_ = deseasoned.iloc[:,[i]]\n",
    "    colnames = temp_.columns\n",
    "    if ndif[i]>0:\n",
    "        #print(ndif[i])\n",
    "        for d in range(0,ndif[i]):\n",
    "            #print(d)\n",
    "            #\n",
    "            #print(temp_.columns)\n",
    "            #temp_ = pd.DataFrame(temp_.values.ravel()-lagpad(temp_.values.ravel(),1)).set_index(temp_.index)\n",
    "            #temp_.columns = colnames\n",
    "            temp = temp_.diff()\n",
    "    temp.columns = temp_.columns\n",
    "    deseasoned_differenced = pd.concat([deseasoned_differenced,temp],axis=1)\n"
   ]
  },
  {
   "cell_type": "code",
   "execution_count": null,
   "id": "f0674d6d-026c-4d0f-bfb5-6d076165a3c5",
   "metadata": {},
   "outputs": [],
   "source": []
  },
  {
   "cell_type": "code",
   "execution_count": 19,
   "id": "5e6874c8-c189-422d-8743-6d398590d6ca",
   "metadata": {},
   "outputs": [],
   "source": [
    "#for d in deseasoned_differenced.columns:\n",
    "    #print(d)"
   ]
  },
  {
   "cell_type": "code",
   "execution_count": 20,
   "id": "f309a8f4-665b-473b-b35f-ceb1cbcb7246",
   "metadata": {},
   "outputs": [
    {
     "data": {
      "text/plain": [
       "369"
      ]
     },
     "execution_count": 20,
     "metadata": {},
     "output_type": "execute_result"
    }
   ],
   "source": [
    "deseasoned_differenced.interpolate(method='time').isna().sum().sum()\n",
    "#.fillna(method='bfill')\n",
    "#raw_int = raw.dropna()\n"
   ]
  },
  {
   "cell_type": "code",
   "execution_count": 21,
   "id": "34a7c307-5b10-4e14-936c-3665c4579e47",
   "metadata": {},
   "outputs": [
    {
     "data": {
      "text/html": [
       "<div>\n",
       "<style scoped>\n",
       "    .dataframe tbody tr th:only-of-type {\n",
       "        vertical-align: middle;\n",
       "    }\n",
       "\n",
       "    .dataframe tbody tr th {\n",
       "        vertical-align: top;\n",
       "    }\n",
       "\n",
       "    .dataframe thead th {\n",
       "        text-align: right;\n",
       "    }\n",
       "</style>\n",
       "<table border=\"1\" class=\"dataframe\">\n",
       "  <thead>\n",
       "    <tr style=\"text-align: right;\">\n",
       "      <th></th>\n",
       "      <th>ASPUS</th>\n",
       "      <th>AWHAETP</th>\n",
       "      <th>BAA10Y</th>\n",
       "      <th>BACDINA066MNFRBNY</th>\n",
       "      <th>BACTSAMFRBDAL</th>\n",
       "      <th>BAMLC0A0CM</th>\n",
       "      <th>BAMLCC0A1AAATRIV</th>\n",
       "      <th>BAMLCC0A4BBBTRIV</th>\n",
       "      <th>BAMLH0A3HYC</th>\n",
       "      <th>BAMLHYH0A0HYM2TRIV</th>\n",
       "      <th>...</th>\n",
       "      <th>VZ</th>\n",
       "      <th>W5000FLT</th>\n",
       "      <th>WBA</th>\n",
       "      <th>WEAT</th>\n",
       "      <th>WMT</th>\n",
       "      <th>XDOC</th>\n",
       "      <th>XLB</th>\n",
       "      <th>XLC</th>\n",
       "      <th>XLI</th>\n",
       "      <th>XLP</th>\n",
       "    </tr>\n",
       "  </thead>\n",
       "  <tbody>\n",
       "    <tr>\n",
       "      <th>count</th>\n",
       "      <td>54.000000</td>\n",
       "      <td>54.000000</td>\n",
       "      <td>54.000000</td>\n",
       "      <td>54.000000</td>\n",
       "      <td>54.000000</td>\n",
       "      <td>54.000000</td>\n",
       "      <td>54.000000</td>\n",
       "      <td>54.000000</td>\n",
       "      <td>54.000000</td>\n",
       "      <td>54.000000</td>\n",
       "      <td>...</td>\n",
       "      <td>54.000000</td>\n",
       "      <td>54.000000</td>\n",
       "      <td>54.000000</td>\n",
       "      <td>54.000000</td>\n",
       "      <td>54.000000</td>\n",
       "      <td>54.000000</td>\n",
       "      <td>54.000000</td>\n",
       "      <td>54.000000</td>\n",
       "      <td>54.000000</td>\n",
       "      <td>54.000000</td>\n",
       "    </tr>\n",
       "    <tr>\n",
       "      <th>mean</th>\n",
       "      <td>3016.666667</td>\n",
       "      <td>0.004938</td>\n",
       "      <td>-0.021673</td>\n",
       "      <td>0.616049</td>\n",
       "      <td>0.730864</td>\n",
       "      <td>-0.029071</td>\n",
       "      <td>6.546679</td>\n",
       "      <td>10.861154</td>\n",
       "      <td>-0.092833</td>\n",
       "      <td>18.254586</td>\n",
       "      <td>...</td>\n",
       "      <td>1.777626</td>\n",
       "      <td>0.218162</td>\n",
       "      <td>0.744255</td>\n",
       "      <td>2.831459</td>\n",
       "      <td>0.744255</td>\n",
       "      <td>1.380780</td>\n",
       "      <td>1.222605</td>\n",
       "      <td>0.876687</td>\n",
       "      <td>3.710815</td>\n",
       "      <td>0.999061</td>\n",
       "    </tr>\n",
       "    <tr>\n",
       "      <th>std</th>\n",
       "      <td>11828.120475</td>\n",
       "      <td>0.080201</td>\n",
       "      <td>0.453094</td>\n",
       "      <td>16.642048</td>\n",
       "      <td>14.135217</td>\n",
       "      <td>0.540044</td>\n",
       "      <td>13.975538</td>\n",
       "      <td>18.474739</td>\n",
       "      <td>3.406872</td>\n",
       "      <td>37.436962</td>\n",
       "      <td>...</td>\n",
       "      <td>4.546572</td>\n",
       "      <td>2.977538</td>\n",
       "      <td>3.116071</td>\n",
       "      <td>6.093759</td>\n",
       "      <td>3.116071</td>\n",
       "      <td>3.693906</td>\n",
       "      <td>7.873159</td>\n",
       "      <td>2.604406</td>\n",
       "      <td>7.262683</td>\n",
       "      <td>8.605673</td>\n",
       "    </tr>\n",
       "    <tr>\n",
       "      <th>min</th>\n",
       "      <td>-25100.000000</td>\n",
       "      <td>-0.200000</td>\n",
       "      <td>-1.504410</td>\n",
       "      <td>-64.233333</td>\n",
       "      <td>-31.233333</td>\n",
       "      <td>-1.678937</td>\n",
       "      <td>-25.510096</td>\n",
       "      <td>-50.098550</td>\n",
       "      <td>-9.396154</td>\n",
       "      <td>-139.901796</td>\n",
       "      <td>...</td>\n",
       "      <td>-8.272926</td>\n",
       "      <td>-10.610158</td>\n",
       "      <td>-7.288573</td>\n",
       "      <td>-5.146033</td>\n",
       "      <td>-7.288573</td>\n",
       "      <td>-9.679131</td>\n",
       "      <td>-22.058186</td>\n",
       "      <td>-5.179459</td>\n",
       "      <td>-14.060353</td>\n",
       "      <td>-20.193453</td>\n",
       "    </tr>\n",
       "    <tr>\n",
       "      <th>25%</th>\n",
       "      <td>-3600.000000</td>\n",
       "      <td>-0.033333</td>\n",
       "      <td>-0.192754</td>\n",
       "      <td>-6.583333</td>\n",
       "      <td>-7.891667</td>\n",
       "      <td>-0.175614</td>\n",
       "      <td>-4.122416</td>\n",
       "      <td>-0.649419</td>\n",
       "      <td>-1.334322</td>\n",
       "      <td>2.758185</td>\n",
       "      <td>...</td>\n",
       "      <td>-0.751921</td>\n",
       "      <td>-1.655371</td>\n",
       "      <td>-0.720025</td>\n",
       "      <td>-0.261821</td>\n",
       "      <td>-0.720025</td>\n",
       "      <td>0.208479</td>\n",
       "      <td>-2.655422</td>\n",
       "      <td>-0.928805</td>\n",
       "      <td>-0.645171</td>\n",
       "      <td>-4.389770</td>\n",
       "    </tr>\n",
       "    <tr>\n",
       "      <th>50%</th>\n",
       "      <td>2250.000000</td>\n",
       "      <td>0.000000</td>\n",
       "      <td>-0.033490</td>\n",
       "      <td>0.416667</td>\n",
       "      <td>0.083333</td>\n",
       "      <td>-0.053672</td>\n",
       "      <td>7.569685</td>\n",
       "      <td>12.211152</td>\n",
       "      <td>-0.194841</td>\n",
       "      <td>22.699687</td>\n",
       "      <td>...</td>\n",
       "      <td>1.689364</td>\n",
       "      <td>0.880039</td>\n",
       "      <td>0.618146</td>\n",
       "      <td>1.524660</td>\n",
       "      <td>0.618146</td>\n",
       "      <td>1.797173</td>\n",
       "      <td>2.650421</td>\n",
       "      <td>0.867217</td>\n",
       "      <td>2.709435</td>\n",
       "      <td>2.432004</td>\n",
       "    </tr>\n",
       "    <tr>\n",
       "      <th>75%</th>\n",
       "      <td>11350.000000</td>\n",
       "      <td>0.033333</td>\n",
       "      <td>0.144554</td>\n",
       "      <td>6.008333</td>\n",
       "      <td>9.291667</td>\n",
       "      <td>0.078655</td>\n",
       "      <td>15.460935</td>\n",
       "      <td>20.345925</td>\n",
       "      <td>0.917954</td>\n",
       "      <td>34.930997</td>\n",
       "      <td>...</td>\n",
       "      <td>4.331338</td>\n",
       "      <td>2.143258</td>\n",
       "      <td>2.035942</td>\n",
       "      <td>3.837932</td>\n",
       "      <td>2.035942</td>\n",
       "      <td>2.878664</td>\n",
       "      <td>6.389959</td>\n",
       "      <td>2.541639</td>\n",
       "      <td>5.709335</td>\n",
       "      <td>5.977480</td>\n",
       "    </tr>\n",
       "    <tr>\n",
       "      <th>max</th>\n",
       "      <td>29000.000000</td>\n",
       "      <td>0.233333</td>\n",
       "      <td>2.237218</td>\n",
       "      <td>56.766667</td>\n",
       "      <td>48.966667</td>\n",
       "      <td>2.784677</td>\n",
       "      <td>42.598631</td>\n",
       "      <td>60.558266</td>\n",
       "      <td>17.539328</td>\n",
       "      <td>97.333375</td>\n",
       "      <td>...</td>\n",
       "      <td>16.379358</td>\n",
       "      <td>5.889132</td>\n",
       "      <td>11.005911</td>\n",
       "      <td>28.643387</td>\n",
       "      <td>11.005911</td>\n",
       "      <td>11.057330</td>\n",
       "      <td>18.043609</td>\n",
       "      <td>6.931687</td>\n",
       "      <td>22.355501</td>\n",
       "      <td>21.302764</td>\n",
       "    </tr>\n",
       "  </tbody>\n",
       "</table>\n",
       "<p>8 rows × 289 columns</p>\n",
       "</div>"
      ],
      "text/plain": [
       "              ASPUS    AWHAETP     BAA10Y  BACDINA066MNFRBNY  BACTSAMFRBDAL  \\\n",
       "count     54.000000  54.000000  54.000000          54.000000      54.000000   \n",
       "mean    3016.666667   0.004938  -0.021673           0.616049       0.730864   \n",
       "std    11828.120475   0.080201   0.453094          16.642048      14.135217   \n",
       "min   -25100.000000  -0.200000  -1.504410         -64.233333     -31.233333   \n",
       "25%    -3600.000000  -0.033333  -0.192754          -6.583333      -7.891667   \n",
       "50%     2250.000000   0.000000  -0.033490           0.416667       0.083333   \n",
       "75%    11350.000000   0.033333   0.144554           6.008333       9.291667   \n",
       "max    29000.000000   0.233333   2.237218          56.766667      48.966667   \n",
       "\n",
       "       BAMLC0A0CM  BAMLCC0A1AAATRIV  BAMLCC0A4BBBTRIV  BAMLH0A3HYC  \\\n",
       "count   54.000000         54.000000         54.000000    54.000000   \n",
       "mean    -0.029071          6.546679         10.861154    -0.092833   \n",
       "std      0.540044         13.975538         18.474739     3.406872   \n",
       "min     -1.678937        -25.510096        -50.098550    -9.396154   \n",
       "25%     -0.175614         -4.122416         -0.649419    -1.334322   \n",
       "50%     -0.053672          7.569685         12.211152    -0.194841   \n",
       "75%      0.078655         15.460935         20.345925     0.917954   \n",
       "max      2.784677         42.598631         60.558266    17.539328   \n",
       "\n",
       "       BAMLHYH0A0HYM2TRIV  ...         VZ   W5000FLT        WBA       WEAT  \\\n",
       "count           54.000000  ...  54.000000  54.000000  54.000000  54.000000   \n",
       "mean            18.254586  ...   1.777626   0.218162   0.744255   2.831459   \n",
       "std             37.436962  ...   4.546572   2.977538   3.116071   6.093759   \n",
       "min           -139.901796  ...  -8.272926 -10.610158  -7.288573  -5.146033   \n",
       "25%              2.758185  ...  -0.751921  -1.655371  -0.720025  -0.261821   \n",
       "50%             22.699687  ...   1.689364   0.880039   0.618146   1.524660   \n",
       "75%             34.930997  ...   4.331338   2.143258   2.035942   3.837932   \n",
       "max             97.333375  ...  16.379358   5.889132  11.005911  28.643387   \n",
       "\n",
       "             WMT       XDOC        XLB        XLC        XLI        XLP  \n",
       "count  54.000000  54.000000  54.000000  54.000000  54.000000  54.000000  \n",
       "mean    0.744255   1.380780   1.222605   0.876687   3.710815   0.999061  \n",
       "std     3.116071   3.693906   7.873159   2.604406   7.262683   8.605673  \n",
       "min    -7.288573  -9.679131 -22.058186  -5.179459 -14.060353 -20.193453  \n",
       "25%    -0.720025   0.208479  -2.655422  -0.928805  -0.645171  -4.389770  \n",
       "50%     0.618146   1.797173   2.650421   0.867217   2.709435   2.432004  \n",
       "75%     2.035942   2.878664   6.389959   2.541639   5.709335   5.977480  \n",
       "max    11.005911  11.057330  18.043609   6.931687  22.355501  21.302764  \n",
       "\n",
       "[8 rows x 289 columns]"
      ]
     },
     "execution_count": 21,
     "metadata": {},
     "output_type": "execute_result"
    }
   ],
   "source": [
    "deseasoned_differenced.describe()"
   ]
  },
  {
   "cell_type": "code",
   "execution_count": 22,
   "id": "fbfebf96-1bd9-41ed-855d-7ada55f8682f",
   "metadata": {},
   "outputs": [],
   "source": [
    "#for d in deseasoned_differenced.columns:\n",
    "    #print(d)"
   ]
  },
  {
   "cell_type": "code",
   "execution_count": 23,
   "id": "445377f0-481e-4147-8396-662f98b29fd2",
   "metadata": {},
   "outputs": [],
   "source": [
    "#https://machinelearningmastery.com/time-series-data-stationary-python/\n",
    "cleaned = deseasoned_differenced.interpolate(method='time')#.dropna()\n"
   ]
  },
  {
   "cell_type": "code",
   "execution_count": 24,
   "id": "51bc1b23-ea20-462b-a7eb-187202d5254a",
   "metadata": {},
   "outputs": [],
   "source": [
    "#plt.plot(cleaned.iloc[:,0])"
   ]
  },
  {
   "cell_type": "code",
   "execution_count": null,
   "id": "cc3c28a1-d38f-4a76-a0e4-6867ccd7fdf3",
   "metadata": {},
   "outputs": [],
   "source": []
  },
  {
   "cell_type": "code",
   "execution_count": null,
   "id": "ca41a320-0a65-4655-a883-7979a533bba8",
   "metadata": {},
   "outputs": [],
   "source": []
  },
  {
   "cell_type": "code",
   "execution_count": 25,
   "id": "10fb0918-211c-4e91-96d2-ed65662ba25f",
   "metadata": {},
   "outputs": [
    {
     "data": {
      "text/plain": [
       "<AxesSubplot:>"
      ]
     },
     "execution_count": 25,
     "metadata": {},
     "output_type": "execute_result"
    },
    {
     "data": {
      "image/png": "[encoded data removed]",
      "text/plain": [
       "<Figure size 432x288 with 1 Axes>"
      ]
     },
     "metadata": {
      "needs_background": "light"
     },
     "output_type": "display_data"
    }
   ],
   "source": [
    "#How many are stationary?\n",
    "%matplotlib inline\n",
    "pd.DataFrame(cleaned.dropna().apply(adfuller).iloc[1,]).iloc[:,0].hist()"
   ]
  },
  {
   "cell_type": "code",
   "execution_count": 26,
   "id": "44357db8-49cd-4001-b834-7708f0b0a4c1",
   "metadata": {},
   "outputs": [],
   "source": [
    "#for d in cleaned.columns:\n",
    "    #print(d)"
   ]
  },
  {
   "cell_type": "code",
   "execution_count": null,
   "id": "1a64a2b4-4999-44c7-a16a-022499effcce",
   "metadata": {},
   "outputs": [],
   "source": []
  },
  {
   "cell_type": "code",
   "execution_count": 27,
   "id": "96e6f0e4-00b9-4d1f-a0d5-c96148ba8280",
   "metadata": {},
   "outputs": [],
   "source": [
    "#np.cumsum(x_names=='BOGZ1FL105015105Q')"
   ]
  },
  {
   "cell_type": "code",
   "execution_count": 28,
   "id": "10040ac7-710f-4822-ac65-dd624ea1cd8a",
   "metadata": {},
   "outputs": [],
   "source": [
    "#len(cleaned.iloc[:,raw.columns=='BACDINA066MNFRBNY'])"
   ]
  },
  {
   "cell_type": "code",
   "execution_count": 29,
   "id": "170f5bde-8c64-44d0-97c6-955504a29dc0",
   "metadata": {},
   "outputs": [],
   "source": [
    "#for c in cleaned.columns:\n",
    "    #print(y_name)\n"
   ]
  },
  {
   "cell_type": "code",
   "execution_count": null,
   "id": "22fb03f9-0620-4717-aa8b-d42d540bac92",
   "metadata": {},
   "outputs": [],
   "source": []
  },
  {
   "cell_type": "code",
   "execution_count": 30,
   "id": "6d3842ba-3b4a-4abb-ac5d-2a210de4d076",
   "metadata": {},
   "outputs": [
    {
     "name": "stdout",
     "output_type": "stream",
     "text": [
      "LXXRCSA\n"
     ]
    }
   ],
   "source": [
    "ccf_max_lag = 4\n",
    "\n",
    "ccf_ = []\n",
    "\n",
    "npa = []\n",
    "\n",
    "#chosen = cleaned.columns[random.randint(0,len(cleaned.columns)-1)]\n",
    "chosen = 'MSPUS'\n",
    "chosen = 'LXXRCSA'\n",
    "print(chosen)\n",
    "y_name = cleaned.columns[cleaned.columns==chosen].values[0]\n",
    "#x_names = cleaned.columns[(cleaned.columns!=cleaned.columns[0])]\n",
    "x_names = cleaned.columns\n",
    "\n",
    "for s in range(0,len(cleaned.columns)):\n",
    "    #y_name = y_name_\n",
    "    x_name = x_names[s]\n",
    "    #print(x_name)\n",
    "    npa.append([y_name,x_name,training])\n",
    "    \n",
    "ccf_ = clientFunction(ret_ccf,npa)\n",
    "\n",
    "y = np.array(cleaned.iloc[:,cleaned.columns==y_name]).ravel()\n",
    "x = y\n",
    "#last one is for comparing with itself to ensure 0 lag ccf is 1\n",
    "ccf_.append([y_name,y_name,crosscorrelation(x,y, ccf_max_lag, mode='corr')])\n",
    "#ccf_.append([np.array([y_name,y_name]).reshape(2,1),crosscorrelation(x,y, 4, mode='corr')])#\n"
   ]
  },
  {
   "cell_type": "code",
   "execution_count": 31,
   "id": "8a4d08d6-1f0c-4447-be2d-a3a6b91a1fcf",
   "metadata": {},
   "outputs": [
    {
     "data": {
      "text/plain": [
       "[<matplotlib.lines.Line2D at 0x7f68790eae20>]"
      ]
     },
     "execution_count": 31,
     "metadata": {},
     "output_type": "execute_result"
    },
    {
     "data": {
      "image/png": "[encoded data removed]",
      "text/plain": [
       "<Figure size 432x288 with 1 Axes>"
      ]
     },
     "metadata": {
      "needs_background": "light"
     },
     "output_type": "display_data"
    }
   ],
   "source": [
    "%matplotlib inline\n",
    "plt.plot(cleaned[chosen])"
   ]
  },
  {
   "cell_type": "code",
   "execution_count": null,
   "id": "1d9e6ab6-e639-4dce-8db4-e29a2d729119",
   "metadata": {},
   "outputs": [],
   "source": []
  },
  {
   "cell_type": "code",
   "execution_count": 32,
   "id": "e4440f99-f158-43d1-9108-6967fc0122aa",
   "metadata": {},
   "outputs": [],
   "source": [
    "range_ = [*range(-ccf_max_lag,ccf_max_lag+1)].copy()\n",
    "\n",
    "ccf_scores = pd.DataFrame()\n",
    "\n",
    "for c in ccf_:\n",
    "    #print(c)\n",
    "    y = c[0]\n",
    "    x = c[1]\n",
    "    #print(x)\n",
    "    ar_ = pd.DataFrame(c[2])\n",
    "    #print(ar_)\n",
    "    ar_.index = range_\n",
    "    ar_.columns = [x]\n",
    "    #abs(ar_)\n",
    "    ccf_scores = pd.concat([ccf_scores,ar_],axis=1)"
   ]
  },
  {
   "cell_type": "code",
   "execution_count": null,
   "id": "6df77cb1-9235-4db8-ab3e-826f65c44330",
   "metadata": {},
   "outputs": [],
   "source": []
  },
  {
   "cell_type": "code",
   "execution_count": 33,
   "id": "e0058905-36bc-476c-b52a-b8fde036eb96",
   "metadata": {},
   "outputs": [],
   "source": [
    "#len(ccf_scores.columns)"
   ]
  },
  {
   "cell_type": "code",
   "execution_count": 34,
   "id": "96543fec-bd07-4bbf-b3d0-b1431bcba01b",
   "metadata": {},
   "outputs": [],
   "source": [
    "#derive optimally lagged dataset\n",
    "\n",
    "data_final = pd.DataFrame()\n",
    "\n",
    "best_lags = []\n",
    "#don't want the last one\n",
    "for c in ccf_scores.columns[:-1]:\n",
    "    #print(c)\n",
    "    temp = ccf_scores[ccf_scores.index>0][c]\n",
    "    bl = ccf_scores.index[ccf_scores.index>0][np.argmax(abs(temp))]\n",
    "    best_lags.append(bl)\n",
    "    data = pd.DataFrame(lagpad(cleaned[c],bl))\n",
    "    data.index = cleaned[c].index\n",
    "    data.columns = [c]\n",
    "    data_final = pd.concat([data_final,data],axis=1)\n",
    "    \n",
    "#doesn't need to be shift, because all other values are offset by at least 1\n",
    "temp = pd.DataFrame(cleaned[chosen])\n",
    "temp.columns = ['target']\n",
    "data_final = pd.concat([temp,data_final],axis=1)\n"
   ]
  },
  {
   "cell_type": "code",
   "execution_count": null,
   "id": "b577961c-4929-4071-8f22-97381fead1e8",
   "metadata": {},
   "outputs": [],
   "source": []
  },
  {
   "cell_type": "code",
   "execution_count": null,
   "id": "224de44f-3fc4-4630-85ac-622a7d8d3c2c",
   "metadata": {},
   "outputs": [],
   "source": []
  },
  {
   "cell_type": "code",
   "execution_count": 35,
   "id": "60a35a30-937e-4751-836a-8cf447037e0e",
   "metadata": {},
   "outputs": [],
   "source": [
    "#data_final_dask = dd.from_pandas(data_final,npartitions=128)\n",
    "#data_final_dask_w_y = dd.concat([cleaned[[y_name]],data_final_dask.compute()],axis=1)\n",
    "#names_ = ['target']\n",
    "#names_.extend(cleaned.columns)\n",
    "#data_final_dask_w_y.columns = names_"
   ]
  },
  {
   "cell_type": "code",
   "execution_count": 36,
   "id": "64cc2b44-72f9-46b4-b3fc-a10c46fd0c7a",
   "metadata": {},
   "outputs": [],
   "source": [
    "#data_final_dask.apply(np.cumsum,axis=1).compute()\n"
   ]
  },
  {
   "cell_type": "code",
   "execution_count": null,
   "id": "ce954cbf-4eca-4d46-a2af-afa25e3e88f6",
   "metadata": {},
   "outputs": [],
   "source": []
  },
  {
   "cell_type": "code",
   "execution_count": null,
   "id": "ac13186e-5615-44b8-8593-067501c7fcb7",
   "metadata": {
    "tags": []
   },
   "outputs": [],
   "source": []
  },
  {
   "cell_type": "code",
   "execution_count": 37,
   "id": "eea2c216-e4cc-4ce5-aead-bcb283cd801c",
   "metadata": {},
   "outputs": [],
   "source": [
    "#len(data_final.columns)"
   ]
  },
  {
   "cell_type": "code",
   "execution_count": 38,
   "id": "5d33c54e-9bd1-4012-b11a-6a28f1cc8198",
   "metadata": {},
   "outputs": [],
   "source": [
    "#plt.plot(raw_int[chosen])\n",
    "#plt.plot(cleaned[chosen])\n",
    "#plt.plot(data_final_dask_w_y[chosen].compute())\n",
    "#plt.plot(data_final_dask_w_y[['target']].compute().loc[training])"
   ]
  },
  {
   "cell_type": "code",
   "execution_count": 39,
   "id": "8d2259a1-3d45-43b5-9f1a-4715ed7adf9a",
   "metadata": {},
   "outputs": [],
   "source": [
    "#np.sort(data_final_dask_w_y.compute().isna().sum())"
   ]
  },
  {
   "cell_type": "code",
   "execution_count": null,
   "id": "58a92423-63d4-4d38-85ed-dc9e910eef5e",
   "metadata": {},
   "outputs": [],
   "source": []
  },
  {
   "cell_type": "code",
   "execution_count": 40,
   "id": "c17484b9-be53-4ab5-ae8c-1b43b45e4ba7",
   "metadata": {},
   "outputs": [
    {
     "data": {
      "text/plain": [
       "\"\\nzca1_subset = working_set[subset.columns.difference(['target',max_pname])].dropna()\\nzca1 = zca.fit(zca1_subset)\\nzca1_df = pd.DataFrame(zca1.transform(zca1_subset))\\nzca1_df.columns = zca1_subset.columns\\nzca1_df.index = zca1_subset.index\\n\\nzca1_subset = working_set[subset.columns.difference(['target',max_pname])].dropna()\\nzca1 = zca.fit(zca1_subset)\\nzca1_df = pd.DataFrame(zca1.transform(zca1_subset))\\nzca1_df.columns = zca1_subset.columns\\nzca1_df.index = zca1_subset.index\\n#pd.concat([target,zca1],axis=1)\\n\""
      ]
     },
     "execution_count": 40,
     "metadata": {},
     "output_type": "execute_result"
    }
   ],
   "source": [
    "'''\n",
    "zca1_subset = working_set[subset.columns.difference(['target',max_pname])].dropna()\n",
    "zca1 = zca.fit(zca1_subset)\n",
    "zca1_df = pd.DataFrame(zca1.transform(zca1_subset))\n",
    "zca1_df.columns = zca1_subset.columns\n",
    "zca1_df.index = zca1_subset.index\n",
    "\n",
    "zca1_subset = working_set[subset.columns.difference(['target',max_pname])].dropna()\n",
    "zca1 = zca.fit(zca1_subset)\n",
    "zca1_df = pd.DataFrame(zca1.transform(zca1_subset))\n",
    "zca1_df.columns = zca1_subset.columns\n",
    "zca1_df.index = zca1_subset.index\n",
    "#pd.concat([target,zca1],axis=1)\n",
    "'''"
   ]
  },
  {
   "cell_type": "code",
   "execution_count": 41,
   "id": "20cd5876-0407-4d06-adc3-bb6e5d3ad84a",
   "metadata": {},
   "outputs": [],
   "source": [
    "#testing"
   ]
  },
  {
   "cell_type": "code",
   "execution_count": 42,
   "id": "620eabbd-bca0-4db4-a177-911270eeb318",
   "metadata": {},
   "outputs": [],
   "source": [
    "#X = y_subset(subset)"
   ]
  },
  {
   "cell_type": "code",
   "execution_count": null,
   "id": "693debdc-01f1-4e2e-9a79-8e80f1b885eb",
   "metadata": {},
   "outputs": [],
   "source": []
  },
  {
   "cell_type": "code",
   "execution_count": null,
   "id": "b784a9c4-e35a-45f8-9cc6-779a645bd20c",
   "metadata": {},
   "outputs": [],
   "source": []
  },
  {
   "cell_type": "code",
   "execution_count": 43,
   "id": "d705c499-58c2-4e07-a2b5-9a32d69e67ed",
   "metadata": {},
   "outputs": [
    {
     "name": "stdout",
     "output_type": "stream",
     "text": [
      "y needs to be named 'target', regress only uses the variable names, it doesn't use index's.  You apply that using .fit on this functions return\n"
     ]
    }
   ],
   "source": [
    "\n",
    "#.compute().loc[training],training,testing\n",
    "temp_train = data_final.loc[training].dropna()\n",
    "temp_test = data_final.loc[testing].dropna()\n",
    "\n",
    "drop = temp_train.columns[temp_train.apply(np.std)==0]\n",
    "\n",
    "temp_train.drop(drop,axis=1,inplace=True)\n",
    "\n",
    "s_f_s = regress(temp_train)\n",
    "\n",
    "target = temp_train.columns[0]\n",
    "#.fit is X, y format\n",
    "if not sys.warnoptions:\n",
    "    import warnings\n",
    "    warnings.simplefilter(\"ignore\")\n",
    "    warnings.filterwarnings('ignore')\n",
    "\n",
    "    fitted = s_f_s.fit(temp_train.loc[:, ~temp_train.columns.isin(['target'])], pd.DataFrame(temp_train['target']))"
   ]
  },
  {
   "cell_type": "code",
   "execution_count": 44,
   "id": "c3a6ddca-6ce8-43af-a504-6b89ab6a479d",
   "metadata": {},
   "outputs": [
    {
     "data": {
      "text/plain": [
       "Date\n",
       "2011-06-30    -3.977183\n",
       "2011-09-30    -3.909730\n",
       "2011-12-31    -3.665519\n",
       "2012-03-31    -0.306957\n",
       "2012-06-30     1.522757\n",
       "2012-09-30     4.809982\n",
       "2012-12-31     7.378934\n",
       "2013-03-31     9.603429\n",
       "2013-06-30    16.310464\n",
       "2013-09-30    12.896095\n",
       "2013-12-31     6.958343\n",
       "2014-03-31     3.981260\n",
       "2014-06-30     3.215447\n",
       "2014-09-30     0.918816\n",
       "2014-12-31     3.824373\n",
       "2015-03-31     4.878191\n",
       "2015-06-30     2.038918\n",
       "2015-09-30     3.422298\n",
       "2015-12-31     4.974961\n",
       "2016-03-31     4.994742\n",
       "2016-06-30     3.565540\n",
       "2016-09-30     3.249782\n",
       "2016-12-31     4.346780\n",
       "Name: target, dtype: float64"
      ]
     },
     "execution_count": 44,
     "metadata": {},
     "output_type": "execute_result"
    }
   ],
   "source": [
    "temp_train['target']\n"
   ]
  },
  {
   "cell_type": "code",
   "execution_count": 45,
   "id": "ca32a436-fbcb-4c94-8cf9-fdbce9501c3c",
   "metadata": {},
   "outputs": [
    {
     "data": {
      "text/plain": [
       "Date\n",
       "2017-03-31     4.757675\n",
       "2017-06-30     4.665787\n",
       "2017-09-30     4.677645\n",
       "2017-12-31     7.491525\n",
       "2018-03-31     5.705483\n",
       "2018-06-30     4.634503\n",
       "2018-09-30     2.880017\n",
       "2018-12-31    -0.883596\n",
       "2019-03-31     0.437720\n",
       "2019-06-30    -0.864640\n",
       "2019-09-30     1.393387\n",
       "2019-12-31     2.711928\n",
       "2020-03-31     4.132691\n",
       "2020-06-30     0.668652\n",
       "2020-09-30     4.261507\n",
       "2020-12-31     6.631403\n",
       "2021-03-31     7.162005\n",
       "2021-06-30    13.234862\n",
       "2021-09-30    12.504175\n",
       "Name: target, dtype: float64"
      ]
     },
     "execution_count": 45,
     "metadata": {},
     "output_type": "execute_result"
    }
   ],
   "source": [
    "temp_test['target']"
   ]
  },
  {
   "cell_type": "code",
   "execution_count": 46,
   "id": "c5932a78-b263-4908-a31a-c71cb98b8041",
   "metadata": {},
   "outputs": [],
   "source": [
    "import numpy as np\n",
    "\n",
    "#define F-test function\n",
    "def f_test(x, y):\n",
    "    x = np.array(x)\n",
    "    y = np.array(y)\n",
    "    f = np.var(x, ddof=1)/np.var(y, ddof=1) #calculate F test statistic \n",
    "    dfn = x.size-1 #define degrees of freedom numerator \n",
    "    dfd = y.size-1 #define degrees of freedom denominator \n",
    "    p = 1-scipy.stats.f.cdf(f, dfn, dfd) #find p-value of F test statistic \n",
    "    return f, p"
   ]
  },
  {
   "cell_type": "code",
   "execution_count": 47,
   "id": "b891ac7d-0c99-4475-b6bf-ae6a793a5676",
   "metadata": {},
   "outputs": [
    {
     "data": {
      "text/plain": [
       "F_onewayResult(statistic=0.17949499853468898, pvalue=0.6740772018084087)"
      ]
     },
     "execution_count": 47,
     "metadata": {},
     "output_type": "execute_result"
    }
   ],
   "source": [
    "f_test(temp_train['target'],temp_test['target'])\n",
    "import scipy.stats as stats\n",
    "stats.f_oneway(temp_train['target'],temp_test['target'])"
   ]
  },
  {
   "cell_type": "code",
   "execution_count": null,
   "id": "326d49e3-fa78-4df3-a217-037fb207e2d6",
   "metadata": {},
   "outputs": [],
   "source": []
  },
  {
   "cell_type": "code",
   "execution_count": 48,
   "id": "c19ed9f7-ee6e-407c-9206-8e3a04605112",
   "metadata": {},
   "outputs": [
    {
     "data": {
      "image/png": "[encoded data removed]",
      "text/plain": [
       "<Figure size 432x288 with 1 Axes>"
      ]
     },
     "metadata": {
      "needs_background": "light"
     },
     "output_type": "display_data"
    }
   ],
   "source": [
    "\n",
    "fig = plot_sfs(fitted.get_metric_dict(), kind='std_err')\n",
    "plt.title('Sequential Forward Selection (w. StdErr)')\n",
    "plt.savefig(str(target)+'.png', dpi=300, format='png', bbox_inches='tight')\n",
    "plt.grid()\n",
    "plt.show()\n"
   ]
  },
  {
   "cell_type": "code",
   "execution_count": null,
   "id": "d96987af-87b6-4dc1-9764-bdf1c85d6e3a",
   "metadata": {},
   "outputs": [],
   "source": []
  },
  {
   "cell_type": "code",
   "execution_count": 49,
   "id": "c7db84a3-b092-4b34-a833-dc4061cd68b4",
   "metadata": {},
   "outputs": [],
   "source": [
    "metric_table = pd.DataFrame(fitted.get_metric_dict()).T"
   ]
  },
  {
   "cell_type": "code",
   "execution_count": 50,
   "id": "6034af74-a848-424b-8143-4a31abe3cf06",
   "metadata": {},
   "outputs": [
    {
     "data": {
      "text/html": [
       "<div>\n",
       "<style scoped>\n",
       "    .dataframe tbody tr th:only-of-type {\n",
       "        vertical-align: middle;\n",
       "    }\n",
       "\n",
       "    .dataframe tbody tr th {\n",
       "        vertical-align: top;\n",
       "    }\n",
       "\n",
       "    .dataframe thead th {\n",
       "        text-align: right;\n",
       "    }\n",
       "</style>\n",
       "<table border=\"1\" class=\"dataframe\">\n",
       "  <thead>\n",
       "    <tr style=\"text-align: right;\">\n",
       "      <th></th>\n",
       "      <th>feature_idx</th>\n",
       "      <th>cv_scores</th>\n",
       "      <th>avg_score</th>\n",
       "      <th>feature_names</th>\n",
       "      <th>ci_bound</th>\n",
       "      <th>std_dev</th>\n",
       "      <th>std_err</th>\n",
       "    </tr>\n",
       "  </thead>\n",
       "  <tbody>\n",
       "    <tr>\n",
       "      <th>1</th>\n",
       "      <td>(261,)</td>\n",
       "      <td>[-2.4320717977094333, -0.572658493064701, -1.0...</td>\n",
       "      <td>-0.978907</td>\n",
       "      <td>(TEDRATE,)</td>\n",
       "      <td>0.989921</td>\n",
       "      <td>0.770192</td>\n",
       "      <td>0.385096</td>\n",
       "    </tr>\n",
       "    <tr>\n",
       "      <th>2</th>\n",
       "      <td>(147, 261)</td>\n",
       "      <td>[-1.5380830120049722, -0.5447090144050832, -0....</td>\n",
       "      <td>-0.76798</td>\n",
       "      <td>(MMP, TEDRATE)</td>\n",
       "      <td>0.513595</td>\n",
       "      <td>0.399595</td>\n",
       "      <td>0.199797</td>\n",
       "    </tr>\n",
       "    <tr>\n",
       "      <th>3</th>\n",
       "      <td>(147, 213, 261)</td>\n",
       "      <td>[-1.4613582855635272, -0.5176556007701365, -0....</td>\n",
       "      <td>-0.657345</td>\n",
       "      <td>(MMP, SCPH, TEDRATE)</td>\n",
       "      <td>0.524677</td>\n",
       "      <td>0.408216</td>\n",
       "      <td>0.204108</td>\n",
       "    </tr>\n",
       "    <tr>\n",
       "      <th>4</th>\n",
       "      <td>(147, 193, 213, 261)</td>\n",
       "      <td>[-1.4389162281366807, -0.4347682797394711, -0....</td>\n",
       "      <td>-0.628346</td>\n",
       "      <td>(MMP, WPU0911, SCPH, TEDRATE)</td>\n",
       "      <td>0.543661</td>\n",
       "      <td>0.422987</td>\n",
       "      <td>0.211493</td>\n",
       "    </tr>\n",
       "    <tr>\n",
       "      <th>5</th>\n",
       "      <td>(147, 187, 193, 213, 261)</td>\n",
       "      <td>[-1.4072168932050484, -0.40913679491191546, -0...</td>\n",
       "      <td>-0.597182</td>\n",
       "      <td>(MMP, MOO, WPU0911, SCPH, TEDRATE)</td>\n",
       "      <td>0.52407</td>\n",
       "      <td>0.407744</td>\n",
       "      <td>0.203872</td>\n",
       "    </tr>\n",
       "    <tr>\n",
       "      <th>6</th>\n",
       "      <td>(100, 126, 147, 193, 213, 261)</td>\n",
       "      <td>[-1.3268982336660506, -0.5125088515816072, -0....</td>\n",
       "      <td>-0.596121</td>\n",
       "      <td>(ITOS, IIPUSNETIQ, MMP, WPU0911, SCPH, TEDRATE)</td>\n",
       "      <td>0.476288</td>\n",
       "      <td>0.370568</td>\n",
       "      <td>0.185284</td>\n",
       "    </tr>\n",
       "    <tr>\n",
       "      <th>7</th>\n",
       "      <td>(147, 174, 185, 187, 193, 213, 261)</td>\n",
       "      <td>[-1.3783569856842355, -0.453299121615576, -0.5...</td>\n",
       "      <td>-0.59273</td>\n",
       "      <td>(MMP, DCOILWTICO, RBNC, MOO, WPU0911, SCPH, TE...</td>\n",
       "      <td>0.528315</td>\n",
       "      <td>0.411047</td>\n",
       "      <td>0.205524</td>\n",
       "    </tr>\n",
       "    <tr>\n",
       "      <th>8</th>\n",
       "      <td>(100, 147, 187, 193, 199, 213, 245, 261)</td>\n",
       "      <td>[-1.079567506859985, -0.4460545908014552, -0.5...</td>\n",
       "      <td>-0.580228</td>\n",
       "      <td>(ITOS, MMP, MOO, WPU0911, RUA, SCPH, DOW, TEDR...</td>\n",
       "      <td>0.341576</td>\n",
       "      <td>0.265757</td>\n",
       "      <td>0.132879</td>\n",
       "    </tr>\n",
       "    <tr>\n",
       "      <th>9</th>\n",
       "      <td>(100, 147, 185, 193, 199, 210, 213, 245, 261)</td>\n",
       "      <td>[-1.043848759143144, -0.4170859276554708, -0.5...</td>\n",
       "      <td>-0.571604</td>\n",
       "      <td>(ITOS, MMP, RBNC, WPU0911, RUA, LES1252881600Q...</td>\n",
       "      <td>0.321533</td>\n",
       "      <td>0.250163</td>\n",
       "      <td>0.125082</td>\n",
       "    </tr>\n",
       "    <tr>\n",
       "      <th>10</th>\n",
       "      <td>(100, 147, 185, 187, 193, 199, 210, 213, 245, ...</td>\n",
       "      <td>[-1.0438487591431562, -0.4170859276554692, -0....</td>\n",
       "      <td>-0.571604</td>\n",
       "      <td>(ITOS, MMP, RBNC, MOO, WPU0911, RUA, LES125288...</td>\n",
       "      <td>0.321533</td>\n",
       "      <td>0.250163</td>\n",
       "      <td>0.125082</td>\n",
       "    </tr>\n",
       "    <tr>\n",
       "      <th>11</th>\n",
       "      <td>(100, 142, 147, 185, 187, 193, 199, 210, 213, ...</td>\n",
       "      <td>[-0.9962935026521456, -0.4493152916363252, -0....</td>\n",
       "      <td>-0.583501</td>\n",
       "      <td>(ITOS, LQDT, MMP, RBNC, MOO, WPU0911, RUA, LES...</td>\n",
       "      <td>0.269331</td>\n",
       "      <td>0.209549</td>\n",
       "      <td>0.104774</td>\n",
       "    </tr>\n",
       "    <tr>\n",
       "      <th>12</th>\n",
       "      <td>(100, 142, 147, 174, 185, 187, 193, 199, 210, ...</td>\n",
       "      <td>[-0.9843169049293736, -0.4813241347815633, -0....</td>\n",
       "      <td>-0.584193</td>\n",
       "      <td>(ITOS, LQDT, MMP, DCOILWTICO, RBNC, MOO, WPU09...</td>\n",
       "      <td>0.263986</td>\n",
       "      <td>0.20539</td>\n",
       "      <td>0.102695</td>\n",
       "    </tr>\n",
       "    <tr>\n",
       "      <th>13</th>\n",
       "      <td>(100, 142, 147, 174, 185, 187, 193, 199, 210, ...</td>\n",
       "      <td>[-0.9742141437846884, -0.46370695846431964, -0...</td>\n",
       "      <td>-0.61895</td>\n",
       "      <td>(ITOS, LQDT, MMP, DCOILWTICO, RBNC, MOO, WPU09...</td>\n",
       "      <td>0.2639</td>\n",
       "      <td>0.205323</td>\n",
       "      <td>0.102662</td>\n",
       "    </tr>\n",
       "    <tr>\n",
       "      <th>14</th>\n",
       "      <td>(100, 142, 147, 174, 185, 187, 193, 199, 210, ...</td>\n",
       "      <td>[-0.9737176792196662, -0.5132718090424098, -0....</td>\n",
       "      <td>-0.604914</td>\n",
       "      <td>(ITOS, LQDT, MMP, DCOILWTICO, RBNC, MOO, WPU09...</td>\n",
       "      <td>0.246539</td>\n",
       "      <td>0.191816</td>\n",
       "      <td>0.095908</td>\n",
       "    </tr>\n",
       "  </tbody>\n",
       "</table>\n",
       "</div>"
      ],
      "text/plain": [
       "                                          feature_idx  \\\n",
       "1                                              (261,)   \n",
       "2                                          (147, 261)   \n",
       "3                                     (147, 213, 261)   \n",
       "4                                (147, 193, 213, 261)   \n",
       "5                           (147, 187, 193, 213, 261)   \n",
       "6                      (100, 126, 147, 193, 213, 261)   \n",
       "7                 (147, 174, 185, 187, 193, 213, 261)   \n",
       "8            (100, 147, 187, 193, 199, 213, 245, 261)   \n",
       "9       (100, 147, 185, 193, 199, 210, 213, 245, 261)   \n",
       "10  (100, 147, 185, 187, 193, 199, 210, 213, 245, ...   \n",
       "11  (100, 142, 147, 185, 187, 193, 199, 210, 213, ...   \n",
       "12  (100, 142, 147, 174, 185, 187, 193, 199, 210, ...   \n",
       "13  (100, 142, 147, 174, 185, 187, 193, 199, 210, ...   \n",
       "14  (100, 142, 147, 174, 185, 187, 193, 199, 210, ...   \n",
       "\n",
       "                                            cv_scores avg_score  \\\n",
       "1   [-2.4320717977094333, -0.572658493064701, -1.0... -0.978907   \n",
       "2   [-1.5380830120049722, -0.5447090144050832, -0....  -0.76798   \n",
       "3   [-1.4613582855635272, -0.5176556007701365, -0.... -0.657345   \n",
       "4   [-1.4389162281366807, -0.4347682797394711, -0.... -0.628346   \n",
       "5   [-1.4072168932050484, -0.40913679491191546, -0... -0.597182   \n",
       "6   [-1.3268982336660506, -0.5125088515816072, -0.... -0.596121   \n",
       "7   [-1.3783569856842355, -0.453299121615576, -0.5...  -0.59273   \n",
       "8   [-1.079567506859985, -0.4460545908014552, -0.5... -0.580228   \n",
       "9   [-1.043848759143144, -0.4170859276554708, -0.5... -0.571604   \n",
       "10  [-1.0438487591431562, -0.4170859276554692, -0.... -0.571604   \n",
       "11  [-0.9962935026521456, -0.4493152916363252, -0.... -0.583501   \n",
       "12  [-0.9843169049293736, -0.4813241347815633, -0.... -0.584193   \n",
       "13  [-0.9742141437846884, -0.46370695846431964, -0...  -0.61895   \n",
       "14  [-0.9737176792196662, -0.5132718090424098, -0.... -0.604914   \n",
       "\n",
       "                                        feature_names  ci_bound   std_dev  \\\n",
       "1                                          (TEDRATE,)  0.989921  0.770192   \n",
       "2                                      (MMP, TEDRATE)  0.513595  0.399595   \n",
       "3                                (MMP, SCPH, TEDRATE)  0.524677  0.408216   \n",
       "4                       (MMP, WPU0911, SCPH, TEDRATE)  0.543661  0.422987   \n",
       "5                  (MMP, MOO, WPU0911, SCPH, TEDRATE)   0.52407  0.407744   \n",
       "6     (ITOS, IIPUSNETIQ, MMP, WPU0911, SCPH, TEDRATE)  0.476288  0.370568   \n",
       "7   (MMP, DCOILWTICO, RBNC, MOO, WPU0911, SCPH, TE...  0.528315  0.411047   \n",
       "8   (ITOS, MMP, MOO, WPU0911, RUA, SCPH, DOW, TEDR...  0.341576  0.265757   \n",
       "9   (ITOS, MMP, RBNC, WPU0911, RUA, LES1252881600Q...  0.321533  0.250163   \n",
       "10  (ITOS, MMP, RBNC, MOO, WPU0911, RUA, LES125288...  0.321533  0.250163   \n",
       "11  (ITOS, LQDT, MMP, RBNC, MOO, WPU0911, RUA, LES...  0.269331  0.209549   \n",
       "12  (ITOS, LQDT, MMP, DCOILWTICO, RBNC, MOO, WPU09...  0.263986   0.20539   \n",
       "13  (ITOS, LQDT, MMP, DCOILWTICO, RBNC, MOO, WPU09...    0.2639  0.205323   \n",
       "14  (ITOS, LQDT, MMP, DCOILWTICO, RBNC, MOO, WPU09...  0.246539  0.191816   \n",
       "\n",
       "     std_err  \n",
       "1   0.385096  \n",
       "2   0.199797  \n",
       "3   0.204108  \n",
       "4   0.211493  \n",
       "5   0.203872  \n",
       "6   0.185284  \n",
       "7   0.205524  \n",
       "8   0.132879  \n",
       "9   0.125082  \n",
       "10  0.125082  \n",
       "11  0.104774  \n",
       "12  0.102695  \n",
       "13  0.102662  \n",
       "14  0.095908  "
      ]
     },
     "execution_count": 50,
     "metadata": {},
     "output_type": "execute_result"
    }
   ],
   "source": [
    "metric_table"
   ]
  },
  {
   "cell_type": "code",
   "execution_count": 51,
   "id": "413f0cea-63fd-430f-b4e7-b1be3dfff54d",
   "metadata": {},
   "outputs": [],
   "source": [
    "winners = metric_table[metric_table['avg_score']<(np.std(metric_table['avg_score'])+np.min(metric_table['avg_score']))].tail(1)['feature_names'].index\n",
    "winners_ = np.asarray(fitted.get_metric_dict()[winners[0]]['feature_names'])\n",
    "\n",
    "knee_last = np.min(np.where(np.round([*metric_table['avg_score']],6)==np.round(np.max([*metric_table['avg_score']]),6)))\n",
    "\n",
    "#elbow method beats the other method\n",
    "temp_df = findknee(np.array(metric_table['avg_score'][0:(knee_last+1)]))\n",
    "winners_ = np.asarray(metric_table.iloc[np.min(np.where([temp_df==np.max(temp_df)])[1])]['feature_names'])\n",
    "#winners_ = np.asarray(metric_table.iloc[10]['feature_names'])"
   ]
  },
  {
   "cell_type": "code",
   "execution_count": null,
   "id": "35d72e16-2442-4265-af9d-9eb7010d47c0",
   "metadata": {},
   "outputs": [],
   "source": []
  },
  {
   "cell_type": "code",
   "execution_count": 52,
   "id": "7ce01763-dd51-436d-9966-a7d84d580005",
   "metadata": {},
   "outputs": [
    {
     "data": {
      "text/plain": [
       "array(['MMP', 'SCPH', 'TEDRATE'], dtype='<U7')"
      ]
     },
     "execution_count": 52,
     "metadata": {},
     "output_type": "execute_result"
    }
   ],
   "source": [
    "winners_"
   ]
  },
  {
   "cell_type": "code",
   "execution_count": null,
   "id": "a8ef0162-f7ce-44a1-996c-8d1bc64690d9",
   "metadata": {},
   "outputs": [],
   "source": []
  },
  {
   "cell_type": "code",
   "execution_count": 53,
   "id": "30c8050c-e9cf-4c1b-ac6b-da5a86ea71b8",
   "metadata": {},
   "outputs": [
    {
     "data": {
      "text/html": [
       "<div>\n",
       "<style scoped>\n",
       "    .dataframe tbody tr th:only-of-type {\n",
       "        vertical-align: middle;\n",
       "    }\n",
       "\n",
       "    .dataframe tbody tr th {\n",
       "        vertical-align: top;\n",
       "    }\n",
       "\n",
       "    .dataframe thead th {\n",
       "        text-align: right;\n",
       "    }\n",
       "</style>\n",
       "<table border=\"1\" class=\"dataframe\">\n",
       "  <thead>\n",
       "    <tr style=\"text-align: right;\">\n",
       "      <th></th>\n",
       "      <th>feature_idx</th>\n",
       "      <th>cv_scores</th>\n",
       "      <th>avg_score</th>\n",
       "      <th>feature_names</th>\n",
       "      <th>ci_bound</th>\n",
       "      <th>std_dev</th>\n",
       "      <th>std_err</th>\n",
       "    </tr>\n",
       "  </thead>\n",
       "  <tbody>\n",
       "    <tr>\n",
       "      <th>1</th>\n",
       "      <td>(261,)</td>\n",
       "      <td>[-2.4320717977094333, -0.572658493064701, -1.0...</td>\n",
       "      <td>-0.978907</td>\n",
       "      <td>(TEDRATE,)</td>\n",
       "      <td>0.989921</td>\n",
       "      <td>0.770192</td>\n",
       "      <td>0.385096</td>\n",
       "    </tr>\n",
       "    <tr>\n",
       "      <th>2</th>\n",
       "      <td>(147, 261)</td>\n",
       "      <td>[-1.5380830120049722, -0.5447090144050832, -0....</td>\n",
       "      <td>-0.76798</td>\n",
       "      <td>(MMP, TEDRATE)</td>\n",
       "      <td>0.513595</td>\n",
       "      <td>0.399595</td>\n",
       "      <td>0.199797</td>\n",
       "    </tr>\n",
       "    <tr>\n",
       "      <th>3</th>\n",
       "      <td>(147, 213, 261)</td>\n",
       "      <td>[-1.4613582855635272, -0.5176556007701365, -0....</td>\n",
       "      <td>-0.657345</td>\n",
       "      <td>(MMP, SCPH, TEDRATE)</td>\n",
       "      <td>0.524677</td>\n",
       "      <td>0.408216</td>\n",
       "      <td>0.204108</td>\n",
       "    </tr>\n",
       "    <tr>\n",
       "      <th>4</th>\n",
       "      <td>(147, 193, 213, 261)</td>\n",
       "      <td>[-1.4389162281366807, -0.4347682797394711, -0....</td>\n",
       "      <td>-0.628346</td>\n",
       "      <td>(MMP, WPU0911, SCPH, TEDRATE)</td>\n",
       "      <td>0.543661</td>\n",
       "      <td>0.422987</td>\n",
       "      <td>0.211493</td>\n",
       "    </tr>\n",
       "    <tr>\n",
       "      <th>5</th>\n",
       "      <td>(147, 187, 193, 213, 261)</td>\n",
       "      <td>[-1.4072168932050484, -0.40913679491191546, -0...</td>\n",
       "      <td>-0.597182</td>\n",
       "      <td>(MMP, MOO, WPU0911, SCPH, TEDRATE)</td>\n",
       "      <td>0.52407</td>\n",
       "      <td>0.407744</td>\n",
       "      <td>0.203872</td>\n",
       "    </tr>\n",
       "    <tr>\n",
       "      <th>6</th>\n",
       "      <td>(100, 126, 147, 193, 213, 261)</td>\n",
       "      <td>[-1.3268982336660506, -0.5125088515816072, -0....</td>\n",
       "      <td>-0.596121</td>\n",
       "      <td>(ITOS, IIPUSNETIQ, MMP, WPU0911, SCPH, TEDRATE)</td>\n",
       "      <td>0.476288</td>\n",
       "      <td>0.370568</td>\n",
       "      <td>0.185284</td>\n",
       "    </tr>\n",
       "    <tr>\n",
       "      <th>7</th>\n",
       "      <td>(147, 174, 185, 187, 193, 213, 261)</td>\n",
       "      <td>[-1.3783569856842355, -0.453299121615576, -0.5...</td>\n",
       "      <td>-0.59273</td>\n",
       "      <td>(MMP, DCOILWTICO, RBNC, MOO, WPU0911, SCPH, TE...</td>\n",
       "      <td>0.528315</td>\n",
       "      <td>0.411047</td>\n",
       "      <td>0.205524</td>\n",
       "    </tr>\n",
       "    <tr>\n",
       "      <th>8</th>\n",
       "      <td>(100, 147, 187, 193, 199, 213, 245, 261)</td>\n",
       "      <td>[-1.079567506859985, -0.4460545908014552, -0.5...</td>\n",
       "      <td>-0.580228</td>\n",
       "      <td>(ITOS, MMP, MOO, WPU0911, RUA, SCPH, DOW, TEDR...</td>\n",
       "      <td>0.341576</td>\n",
       "      <td>0.265757</td>\n",
       "      <td>0.132879</td>\n",
       "    </tr>\n",
       "    <tr>\n",
       "      <th>9</th>\n",
       "      <td>(100, 147, 185, 193, 199, 210, 213, 245, 261)</td>\n",
       "      <td>[-1.043848759143144, -0.4170859276554708, -0.5...</td>\n",
       "      <td>-0.571604</td>\n",
       "      <td>(ITOS, MMP, RBNC, WPU0911, RUA, LES1252881600Q...</td>\n",
       "      <td>0.321533</td>\n",
       "      <td>0.250163</td>\n",
       "      <td>0.125082</td>\n",
       "    </tr>\n",
       "    <tr>\n",
       "      <th>10</th>\n",
       "      <td>(100, 147, 185, 187, 193, 199, 210, 213, 245, ...</td>\n",
       "      <td>[-1.0438487591431562, -0.4170859276554692, -0....</td>\n",
       "      <td>-0.571604</td>\n",
       "      <td>(ITOS, MMP, RBNC, MOO, WPU0911, RUA, LES125288...</td>\n",
       "      <td>0.321533</td>\n",
       "      <td>0.250163</td>\n",
       "      <td>0.125082</td>\n",
       "    </tr>\n",
       "    <tr>\n",
       "      <th>11</th>\n",
       "      <td>(100, 142, 147, 185, 187, 193, 199, 210, 213, ...</td>\n",
       "      <td>[-0.9962935026521456, -0.4493152916363252, -0....</td>\n",
       "      <td>-0.583501</td>\n",
       "      <td>(ITOS, LQDT, MMP, RBNC, MOO, WPU0911, RUA, LES...</td>\n",
       "      <td>0.269331</td>\n",
       "      <td>0.209549</td>\n",
       "      <td>0.104774</td>\n",
       "    </tr>\n",
       "    <tr>\n",
       "      <th>12</th>\n",
       "      <td>(100, 142, 147, 174, 185, 187, 193, 199, 210, ...</td>\n",
       "      <td>[-0.9843169049293736, -0.4813241347815633, -0....</td>\n",
       "      <td>-0.584193</td>\n",
       "      <td>(ITOS, LQDT, MMP, DCOILWTICO, RBNC, MOO, WPU09...</td>\n",
       "      <td>0.263986</td>\n",
       "      <td>0.20539</td>\n",
       "      <td>0.102695</td>\n",
       "    </tr>\n",
       "    <tr>\n",
       "      <th>13</th>\n",
       "      <td>(100, 142, 147, 174, 185, 187, 193, 199, 210, ...</td>\n",
       "      <td>[-0.9742141437846884, -0.46370695846431964, -0...</td>\n",
       "      <td>-0.61895</td>\n",
       "      <td>(ITOS, LQDT, MMP, DCOILWTICO, RBNC, MOO, WPU09...</td>\n",
       "      <td>0.2639</td>\n",
       "      <td>0.205323</td>\n",
       "      <td>0.102662</td>\n",
       "    </tr>\n",
       "    <tr>\n",
       "      <th>14</th>\n",
       "      <td>(100, 142, 147, 174, 185, 187, 193, 199, 210, ...</td>\n",
       "      <td>[-0.9737176792196662, -0.5132718090424098, -0....</td>\n",
       "      <td>-0.604914</td>\n",
       "      <td>(ITOS, LQDT, MMP, DCOILWTICO, RBNC, MOO, WPU09...</td>\n",
       "      <td>0.246539</td>\n",
       "      <td>0.191816</td>\n",
       "      <td>0.095908</td>\n",
       "    </tr>\n",
       "  </tbody>\n",
       "</table>\n",
       "</div>"
      ],
      "text/plain": [
       "                                          feature_idx  \\\n",
       "1                                              (261,)   \n",
       "2                                          (147, 261)   \n",
       "3                                     (147, 213, 261)   \n",
       "4                                (147, 193, 213, 261)   \n",
       "5                           (147, 187, 193, 213, 261)   \n",
       "6                      (100, 126, 147, 193, 213, 261)   \n",
       "7                 (147, 174, 185, 187, 193, 213, 261)   \n",
       "8            (100, 147, 187, 193, 199, 213, 245, 261)   \n",
       "9       (100, 147, 185, 193, 199, 210, 213, 245, 261)   \n",
       "10  (100, 147, 185, 187, 193, 199, 210, 213, 245, ...   \n",
       "11  (100, 142, 147, 185, 187, 193, 199, 210, 213, ...   \n",
       "12  (100, 142, 147, 174, 185, 187, 193, 199, 210, ...   \n",
       "13  (100, 142, 147, 174, 185, 187, 193, 199, 210, ...   \n",
       "14  (100, 142, 147, 174, 185, 187, 193, 199, 210, ...   \n",
       "\n",
       "                                            cv_scores avg_score  \\\n",
       "1   [-2.4320717977094333, -0.572658493064701, -1.0... -0.978907   \n",
       "2   [-1.5380830120049722, -0.5447090144050832, -0....  -0.76798   \n",
       "3   [-1.4613582855635272, -0.5176556007701365, -0.... -0.657345   \n",
       "4   [-1.4389162281366807, -0.4347682797394711, -0.... -0.628346   \n",
       "5   [-1.4072168932050484, -0.40913679491191546, -0... -0.597182   \n",
       "6   [-1.3268982336660506, -0.5125088515816072, -0.... -0.596121   \n",
       "7   [-1.3783569856842355, -0.453299121615576, -0.5...  -0.59273   \n",
       "8   [-1.079567506859985, -0.4460545908014552, -0.5... -0.580228   \n",
       "9   [-1.043848759143144, -0.4170859276554708, -0.5... -0.571604   \n",
       "10  [-1.0438487591431562, -0.4170859276554692, -0.... -0.571604   \n",
       "11  [-0.9962935026521456, -0.4493152916363252, -0.... -0.583501   \n",
       "12  [-0.9843169049293736, -0.4813241347815633, -0.... -0.584193   \n",
       "13  [-0.9742141437846884, -0.46370695846431964, -0...  -0.61895   \n",
       "14  [-0.9737176792196662, -0.5132718090424098, -0.... -0.604914   \n",
       "\n",
       "                                        feature_names  ci_bound   std_dev  \\\n",
       "1                                          (TEDRATE,)  0.989921  0.770192   \n",
       "2                                      (MMP, TEDRATE)  0.513595  0.399595   \n",
       "3                                (MMP, SCPH, TEDRATE)  0.524677  0.408216   \n",
       "4                       (MMP, WPU0911, SCPH, TEDRATE)  0.543661  0.422987   \n",
       "5                  (MMP, MOO, WPU0911, SCPH, TEDRATE)   0.52407  0.407744   \n",
       "6     (ITOS, IIPUSNETIQ, MMP, WPU0911, SCPH, TEDRATE)  0.476288  0.370568   \n",
       "7   (MMP, DCOILWTICO, RBNC, MOO, WPU0911, SCPH, TE...  0.528315  0.411047   \n",
       "8   (ITOS, MMP, MOO, WPU0911, RUA, SCPH, DOW, TEDR...  0.341576  0.265757   \n",
       "9   (ITOS, MMP, RBNC, WPU0911, RUA, LES1252881600Q...  0.321533  0.250163   \n",
       "10  (ITOS, MMP, RBNC, MOO, WPU0911, RUA, LES125288...  0.321533  0.250163   \n",
       "11  (ITOS, LQDT, MMP, RBNC, MOO, WPU0911, RUA, LES...  0.269331  0.209549   \n",
       "12  (ITOS, LQDT, MMP, DCOILWTICO, RBNC, MOO, WPU09...  0.263986   0.20539   \n",
       "13  (ITOS, LQDT, MMP, DCOILWTICO, RBNC, MOO, WPU09...    0.2639  0.205323   \n",
       "14  (ITOS, LQDT, MMP, DCOILWTICO, RBNC, MOO, WPU09...  0.246539  0.191816   \n",
       "\n",
       "     std_err  \n",
       "1   0.385096  \n",
       "2   0.199797  \n",
       "3   0.204108  \n",
       "4   0.211493  \n",
       "5   0.203872  \n",
       "6   0.185284  \n",
       "7   0.205524  \n",
       "8   0.132879  \n",
       "9   0.125082  \n",
       "10  0.125082  \n",
       "11  0.104774  \n",
       "12  0.102695  \n",
       "13  0.102662  \n",
       "14  0.095908  "
      ]
     },
     "execution_count": 53,
     "metadata": {},
     "output_type": "execute_result"
    },
    {
     "data": {
      "image/png": "[encoded data removed]",
      "text/plain": [
       "<Figure size 432x288 with 1 Axes>"
      ]
     },
     "metadata": {
      "needs_background": "light"
     },
     "output_type": "display_data"
    }
   ],
   "source": [
    "plt.plot(np.array(metric_table['avg_score'][0:(knee_last+1)]))\n",
    "\n",
    "metric_table.loc[metric_table['avg_score']<=np.std(abs(metric_table['avg_score'][0:(knee_last+1)]))+np.min(abs(metric_table['avg_score'][0:(knee_last+1)]))+np.min((metric_table['avg_score'][0:(knee_last+1)]))]"
   ]
  },
  {
   "cell_type": "code",
   "execution_count": null,
   "id": "92a63fce-3966-42d9-b9d2-fdfebafabfee",
   "metadata": {},
   "outputs": [],
   "source": []
  },
  {
   "cell_type": "code",
   "execution_count": 54,
   "id": "9495fe14-a982-4b2c-abd7-c2bbf3118c8f",
   "metadata": {},
   "outputs": [],
   "source": [
    "X_train = temp_train[winners_]\n",
    "\n",
    "y_train = temp_train['target']\n",
    "\n",
    "sig_table = np.zeros(shape=(len(X_train.columns)))\n",
    "signs_table = np.zeros(shape=(len(X_train.columns)))\n",
    "kfold = KFold(n_splits=numCV, shuffle=True)\n",
    "\n",
    "#used for pcorr kfolds as well as best subsets\n",
    "train_ = []\n",
    "test_ = []\n",
    "\n",
    "kfold.get_n_splits(X_train.index)\n",
    "\n",
    "for train_indices, test_indices in kfold.split(X_train.index):\n",
    "    train_.append(train_indices)\n",
    "    test_.append(test_indices)\n",
    "    \n"
   ]
  },
  {
   "cell_type": "code",
   "execution_count": null,
   "id": "dae0b22a-472d-44b2-ac33-89925cfd350a",
   "metadata": {},
   "outputs": [],
   "source": []
  },
  {
   "cell_type": "code",
   "execution_count": 56,
   "id": "816b4d23-3ada-45e5-a822-3a97547fd548",
   "metadata": {},
   "outputs": [
    {
     "name": "stdout",
     "output_type": "stream",
     "text": [
      "0.5967436511456778 SCPH\n",
      "0.09355221625680346 MMP\n",
      "0.04156403357610537 TEDRATE\n"
     ]
    }
   ],
   "source": [
    "threshold = .05\n",
    "\n",
    "set_ = list(winners_)\n",
    "\n",
    "max_pvalue = 1\n",
    "\n",
    "subset = temp_train[np.concatenate([['target'],winners_])]\n",
    "\n",
    "n=len(subset)\n",
    "\n",
    "while(max_pvalue>=threshold):\n",
    "\n",
    "    dist = scipy.stats.beta(n/2 - 1, n/2 - 1, loc=-1, scale=2)\n",
    "    p_values = pd.DataFrame(2*dist.cdf(-abs(subset.pcorr()['target']))).T\n",
    "    p_values.columns = list(subset.columns)\n",
    "\n",
    "    max_pname = p_values.idxmax(axis=1)[0]\n",
    "    max_pvalue = p_values[max_pname].values[0]\n",
    "\n",
    "    print(max_pvalue, max_pname)\n",
    "\n",
    "    #to prevent errors, always return 1\n",
    "    if len(set_)==1:\n",
    "        break\n",
    "\n",
    "    if (max_pvalue > threshold):\n",
    "\n",
    "        set_.remove(max_pname)\n",
    "        temp = [target]\n",
    "        temp.extend(set_)\n",
    "        subset = subset[temp]\n",
    "\n",
    "        max_pname=\"\""
   ]
  },
  {
   "cell_type": "code",
   "execution_count": 57,
   "id": "38b3c525-303a-4ba7-8ed9-286852a10e89",
   "metadata": {},
   "outputs": [
    {
     "data": {
      "text/plain": [
       "['TEDRATE']"
      ]
     },
     "execution_count": 57,
     "metadata": {},
     "output_type": "execute_result"
    }
   ],
   "source": [
    "set_"
   ]
  },
  {
   "cell_type": "code",
   "execution_count": null,
   "id": "75972a79-5470-4ca4-8d06-386cd811b53d",
   "metadata": {},
   "outputs": [],
   "source": []
  },
  {
   "cell_type": "code",
   "execution_count": null,
   "id": "fd757a6a-8c83-473d-9f63-f3d3f50fb6b7",
   "metadata": {},
   "outputs": [],
   "source": []
  },
  {
   "cell_type": "code",
   "execution_count": 58,
   "id": "29fd52b1-00ad-4862-81f4-79bf6dbe11c3",
   "metadata": {},
   "outputs": [
    {
     "data": {
      "text/plain": [
       "[<matplotlib.lines.Line2D at 0x7f696c3edb80>]"
      ]
     },
     "execution_count": 58,
     "metadata": {},
     "output_type": "execute_result"
    },
    {
     "data": {
      "image/png": "[encoded data removed]",
      "text/plain": [
       "<Figure size 432x288 with 1 Axes>"
      ]
     },
     "metadata": {
      "needs_background": "light"
     },
     "output_type": "display_data"
    }
   ],
   "source": [
    "plt.plot(metric_table['avg_score'])"
   ]
  },
  {
   "cell_type": "code",
   "execution_count": 59,
   "id": "da6b1251-fdbf-46a9-811e-0f1c68556e20",
   "metadata": {},
   "outputs": [
    {
     "data": {
      "text/html": [
       "<div>\n",
       "<style scoped>\n",
       "    .dataframe tbody tr th:only-of-type {\n",
       "        vertical-align: middle;\n",
       "    }\n",
       "\n",
       "    .dataframe tbody tr th {\n",
       "        vertical-align: top;\n",
       "    }\n",
       "\n",
       "    .dataframe thead th {\n",
       "        text-align: right;\n",
       "    }\n",
       "</style>\n",
       "<table border=\"1\" class=\"dataframe\">\n",
       "  <thead>\n",
       "    <tr style=\"text-align: right;\">\n",
       "      <th></th>\n",
       "      <th>target</th>\n",
       "      <th>TEDRATE</th>\n",
       "    </tr>\n",
       "    <tr>\n",
       "      <th>Date</th>\n",
       "      <th></th>\n",
       "      <th></th>\n",
       "    </tr>\n",
       "  </thead>\n",
       "  <tbody>\n",
       "    <tr>\n",
       "      <th>2011-06-30</th>\n",
       "      <td>-3.977183</td>\n",
       "      <td>0.026664</td>\n",
       "    </tr>\n",
       "    <tr>\n",
       "      <th>2011-09-30</th>\n",
       "      <td>-3.909730</td>\n",
       "      <td>0.037503</td>\n",
       "    </tr>\n",
       "    <tr>\n",
       "      <th>2011-12-31</th>\n",
       "      <td>-3.665519</td>\n",
       "      <td>0.056302</td>\n",
       "    </tr>\n",
       "    <tr>\n",
       "      <th>2012-03-31</th>\n",
       "      <td>-0.306957</td>\n",
       "      <td>0.190532</td>\n",
       "    </tr>\n",
       "    <tr>\n",
       "      <th>2012-06-30</th>\n",
       "      <td>1.522757</td>\n",
       "      <td>-0.023210</td>\n",
       "    </tr>\n",
       "    <tr>\n",
       "      <th>2012-09-30</th>\n",
       "      <td>4.809982</td>\n",
       "      <td>-0.060951</td>\n",
       "    </tr>\n",
       "    <tr>\n",
       "      <th>2012-12-31</th>\n",
       "      <td>7.378934</td>\n",
       "      <td>-0.056791</td>\n",
       "    </tr>\n",
       "    <tr>\n",
       "      <th>2013-03-31</th>\n",
       "      <td>9.603429</td>\n",
       "      <td>-0.096382</td>\n",
       "    </tr>\n",
       "    <tr>\n",
       "      <th>2013-06-30</th>\n",
       "      <td>16.310464</td>\n",
       "      <td>-0.022333</td>\n",
       "    </tr>\n",
       "    <tr>\n",
       "      <th>2013-09-30</th>\n",
       "      <td>12.896095</td>\n",
       "      <td>0.018876</td>\n",
       "    </tr>\n",
       "    <tr>\n",
       "      <th>2013-12-31</th>\n",
       "      <td>6.958343</td>\n",
       "      <td>0.005497</td>\n",
       "    </tr>\n",
       "    <tr>\n",
       "      <th>2014-03-31</th>\n",
       "      <td>3.981260</td>\n",
       "      <td>-0.047403</td>\n",
       "    </tr>\n",
       "    <tr>\n",
       "      <th>2014-06-30</th>\n",
       "      <td>3.215447</td>\n",
       "      <td>0.004918</td>\n",
       "    </tr>\n",
       "    <tr>\n",
       "      <th>2014-09-30</th>\n",
       "      <td>0.918816</td>\n",
       "      <td>0.008852</td>\n",
       "    </tr>\n",
       "    <tr>\n",
       "      <th>2014-12-31</th>\n",
       "      <td>3.824373</td>\n",
       "      <td>0.010617</td>\n",
       "    </tr>\n",
       "    <tr>\n",
       "      <th>2015-03-31</th>\n",
       "      <td>4.878191</td>\n",
       "      <td>0.006596</td>\n",
       "    </tr>\n",
       "    <tr>\n",
       "      <th>2015-06-30</th>\n",
       "      <td>2.038918</td>\n",
       "      <td>0.023279</td>\n",
       "    </tr>\n",
       "    <tr>\n",
       "      <th>2015-09-30</th>\n",
       "      <td>3.422298</td>\n",
       "      <td>0.026066</td>\n",
       "    </tr>\n",
       "    <tr>\n",
       "      <th>2015-12-31</th>\n",
       "      <td>4.974961</td>\n",
       "      <td>0.010250</td>\n",
       "    </tr>\n",
       "    <tr>\n",
       "      <th>2016-03-31</th>\n",
       "      <td>4.994742</td>\n",
       "      <td>0.014176</td>\n",
       "    </tr>\n",
       "    <tr>\n",
       "      <th>2016-06-30</th>\n",
       "      <td>3.565540</td>\n",
       "      <td>0.050276</td>\n",
       "    </tr>\n",
       "    <tr>\n",
       "      <th>2016-09-30</th>\n",
       "      <td>3.249782</td>\n",
       "      <td>0.048563</td>\n",
       "    </tr>\n",
       "    <tr>\n",
       "      <th>2016-12-31</th>\n",
       "      <td>4.346780</td>\n",
       "      <td>0.108095</td>\n",
       "    </tr>\n",
       "  </tbody>\n",
       "</table>\n",
       "</div>"
      ],
      "text/plain": [
       "               target   TEDRATE\n",
       "Date                           \n",
       "2011-06-30  -3.977183  0.026664\n",
       "2011-09-30  -3.909730  0.037503\n",
       "2011-12-31  -3.665519  0.056302\n",
       "2012-03-31  -0.306957  0.190532\n",
       "2012-06-30   1.522757 -0.023210\n",
       "2012-09-30   4.809982 -0.060951\n",
       "2012-12-31   7.378934 -0.056791\n",
       "2013-03-31   9.603429 -0.096382\n",
       "2013-06-30  16.310464 -0.022333\n",
       "2013-09-30  12.896095  0.018876\n",
       "2013-12-31   6.958343  0.005497\n",
       "2014-03-31   3.981260 -0.047403\n",
       "2014-06-30   3.215447  0.004918\n",
       "2014-09-30   0.918816  0.008852\n",
       "2014-12-31   3.824373  0.010617\n",
       "2015-03-31   4.878191  0.006596\n",
       "2015-06-30   2.038918  0.023279\n",
       "2015-09-30   3.422298  0.026066\n",
       "2015-12-31   4.974961  0.010250\n",
       "2016-03-31   4.994742  0.014176\n",
       "2016-06-30   3.565540  0.050276\n",
       "2016-09-30   3.249782  0.048563\n",
       "2016-12-31   4.346780  0.108095"
      ]
     },
     "execution_count": 59,
     "metadata": {},
     "output_type": "execute_result"
    }
   ],
   "source": [
    "temp_train[np.concatenate([['target'],set_])]"
   ]
  },
  {
   "cell_type": "code",
   "execution_count": 60,
   "id": "9b962e69-fda2-487a-aeba-ccbd1f4d5dd4",
   "metadata": {},
   "outputs": [
    {
     "data": {
      "image/png": "[encoded data removed]",
      "text/plain": [
       "<Figure size 432x288 with 1 Axes>"
      ]
     },
     "metadata": {
      "needs_background": "light"
     },
     "output_type": "display_data"
    }
   ],
   "source": [
    "for w in set_:\n",
    "    plt.scatter(temp_train[['target']], temp_train[[w]])\n",
    "    plt.show()"
   ]
  },
  {
   "cell_type": "code",
   "execution_count": 61,
   "id": "cf87fc6c-2463-43b6-8417-3a1e6d1b9628",
   "metadata": {},
   "outputs": [],
   "source": [
    "#temp_train[list('target').extend(winners_)]\n"
   ]
  },
  {
   "cell_type": "code",
   "execution_count": 62,
   "id": "6f69fbff-f686-440c-b2e9-1571f869bf11",
   "metadata": {},
   "outputs": [
    {
     "data": {
      "text/plain": [
       "289"
      ]
     },
     "execution_count": 62,
     "metadata": {},
     "output_type": "execute_result"
    }
   ],
   "source": [
    "len(best_lags)"
   ]
  },
  {
   "cell_type": "code",
   "execution_count": null,
   "id": "e99aed22-b692-4bb1-b222-9468ed5458cb",
   "metadata": {},
   "outputs": [],
   "source": []
  },
  {
   "cell_type": "code",
   "execution_count": null,
   "id": "952dd413-18a6-469a-ad1f-3fce72f90b94",
   "metadata": {},
   "outputs": [],
   "source": []
  },
  {
   "cell_type": "code",
   "execution_count": null,
   "id": "8c44de9c-f18b-408a-a57a-a1a8e708089c",
   "metadata": {},
   "outputs": [],
   "source": []
  },
  {
   "cell_type": "code",
   "execution_count": 63,
   "id": "2354f090-86ea-49ea-affe-b681d4afe8b7",
   "metadata": {},
   "outputs": [],
   "source": [
    "lagposition = []\n",
    "lagatposition = []\n",
    "for s in range(0,len(winners_)):\n",
    "    lagposition.append(np.where(ccf_scores.columns==winners_[s])[0][0])\n",
    "    lagatposition.append(best_lags[np.where(ccf_scores.columns==winners_[s])[0][0]])"
   ]
  },
  {
   "cell_type": "code",
   "execution_count": null,
   "id": "75430906-e4a9-4c16-9d68-568c55e91465",
   "metadata": {},
   "outputs": [],
   "source": []
  },
  {
   "cell_type": "code",
   "execution_count": 64,
   "id": "8a6d7c95-affb-4eb8-9c8b-dbea701ec24e",
   "metadata": {},
   "outputs": [
    {
     "data": {
      "text/plain": [
       "[1, 2, 1]"
      ]
     },
     "execution_count": 64,
     "metadata": {},
     "output_type": "execute_result"
    }
   ],
   "source": [
    "lagatposition"
   ]
  },
  {
   "cell_type": "code",
   "execution_count": 65,
   "id": "2430ee8f-f974-47da-9f6e-d9193f067d20",
   "metadata": {},
   "outputs": [
    {
     "name": "stdout",
     "output_type": "stream",
     "text": [
      "                            OLS Regression Results                            \n",
      "==============================================================================\n",
      "Dep. Variable:                 target   R-squared:                       0.298\n",
      "Model:                            OLS   Adj. R-squared:                  0.187\n",
      "Method:                 Least Squares   F-statistic:                     2.683\n",
      "Date:                Fri, 07 Jan 2022   Prob (F-statistic):             0.0759\n",
      "Time:                        23:32:34   Log-Likelihood:                -64.221\n",
      "No. Observations:                  23   AIC:                             136.4\n",
      "Df Residuals:                      19   BIC:                             141.0\n",
      "Df Model:                           3                                         \n",
      "Covariance Type:            nonrobust                                         \n",
      "==============================================================================\n",
      "                 coef    std err          t      P>|t|      [0.025      0.975]\n",
      "------------------------------------------------------------------------------\n",
      "const          5.5562      1.152      4.825      0.000       3.146       7.966\n",
      "MMP           -0.9368      0.535     -1.750      0.096      -2.057       0.184\n",
      "SCPH          -0.2108      0.413     -0.511      0.615      -1.074       0.653\n",
      "TEDRATE      -33.0600     15.935     -2.075      0.052     -66.412       0.292\n",
      "==============================================================================\n",
      "Omnibus:                        3.722   Durbin-Watson:                   0.813\n",
      "Prob(Omnibus):                  0.156   Jarque-Bera (JB):                2.271\n",
      "Skew:                           0.152   Prob(JB):                        0.321\n",
      "Kurtosis:                       4.509   Cond. No.                         42.7\n",
      "==============================================================================\n",
      "\n",
      "Notes:\n",
      "[1] Standard Errors assume that the covariance matrix of the errors is correctly specified.\n",
      "LXXRCSA\n",
      "sndif: 0\n",
      "ndif: 1\n",
      "416.6311236215414\n",
      "MMP\n",
      "lags: 1\n",
      "sndif: 0\n",
      "ndif: 1\n",
      "SCPH\n",
      "lags: 1\n",
      "sndif: 0\n",
      "ndif: 1\n",
      "TEDRATE\n",
      "lags: 1\n",
      "sndif: 0\n",
      "ndif: 1\n"
     ]
    },
    {
     "data": {
      "image/png": "[encoded data removed]",
      "text/plain": [
       "<Figure size 432x288 with 2 Axes>"
      ]
     },
     "metadata": {
      "needs_background": "light"
     },
     "output_type": "display_data"
    },
    {
     "data": {
      "image/png": "[encoded data removed]",
      "text/plain": [
       "<Figure size 432x288 with 2 Axes>"
      ]
     },
     "metadata": {
      "needs_background": "light"
     },
     "output_type": "display_data"
    }
   ],
   "source": [
    "X = sm.add_constant(temp_train[winners_])\n",
    "results = sm.OLS(temp_train['target'],X).fit()\n",
    "print(results.summary())\n",
    "\n",
    "inverses = []\n",
    "\n",
    "print(chosen)\n",
    "\n",
    "value = np.where(raw_int.columns==chosen)[0][0]\n",
    "\n",
    "#print(\n",
    "print('sndif:', sndif[value])\n",
    "print('ndif:', ndif[value])\n",
    "inverses.append([chosen,sndif[value],ndif[value]])\n",
    "\n",
    "train_forecast = results.predict(temp_train[np.concatenate([['target'],winners_])])\n",
    "test_forecast = results.predict(temp_test[np.concatenate([['target'],winners_])])\n",
    "\n",
    "print(MAPE(temp_test['target'],test_forecast))\n",
    "\n",
    "index_ = []\n",
    "\n",
    "for w in winners_:\n",
    "    print(w)\n",
    "    value = np.where(raw_int.columns==w)[0][0]\n",
    "    index_.append(value)\n",
    "    inverses.append([w,sndif[value],ndif[value]])\n",
    "    print('lags:', best_lags[np.where(ccf_scores.columns==winners_[s])[0][0]])\n",
    "    print('sndif:', sndif[value])\n",
    "    print('ndif:', ndif[value])\n",
    "\n",
    "%matplotlib inline\n",
    "corrMatrix = pd.concat([temp_train['target'],temp_train[winners_]],axis=1).corr().sort_values(kind=\"quicksort\", by='target', ascending=False,key=abs)\n",
    "sn.heatmap(corrMatrix, annot=True)\n",
    "plt.show()\n",
    "\n",
    "pcorrMatrix = pd.concat([temp_train['target'],temp_train[winners_]],axis=1).pcorr().sort_values(kind=\"quicksort\", by='target', ascending=False,key=abs)\n",
    "sn.heatmap(pcorrMatrix, annot=True)\n",
    "plt.show()\n"
   ]
  },
  {
   "cell_type": "code",
   "execution_count": 66,
   "id": "f4e60828-f399-431a-9be8-b42b1340c578",
   "metadata": {},
   "outputs": [
    {
     "data": {
      "image/png": "[encoded data removed]",
      "text/plain": [
       "<Figure size 432x288 with 1 Axes>"
      ]
     },
     "metadata": {
      "needs_background": "light"
     },
     "output_type": "display_data"
    },
    {
     "data": {
      "image/png": "[encoded data removed]",
      "text/plain": [
       "<Figure size 432x288 with 1 Axes>"
      ]
     },
     "metadata": {
      "needs_background": "light"
     },
     "output_type": "display_data"
    },
    {
     "data": {
      "image/png": "[encoded data removed]",
      "text/plain": [
       "<Figure size 432x288 with 1 Axes>"
      ]
     },
     "metadata": {
      "needs_background": "light"
     },
     "output_type": "display_data"
    }
   ],
   "source": [
    "for w in winners_:\n",
    "    plt.scatter(temp_train[['target']], temp_train[[w]])\n",
    "    plt.show()"
   ]
  },
  {
   "cell_type": "code",
   "execution_count": null,
   "id": "edab7542-543b-4518-bcb4-8aa2de26c70f",
   "metadata": {},
   "outputs": [],
   "source": []
  },
  {
   "cell_type": "code",
   "execution_count": 67,
   "id": "bffebf39-6fb8-458e-8ea0-20f8424c6456",
   "metadata": {},
   "outputs": [
    {
     "name": "stdout",
     "output_type": "stream",
     "text": [
      "23\n",
      "19\n"
     ]
    }
   ],
   "source": [
    "print(len(temp_train))\n",
    "print(len(temp_test))"
   ]
  },
  {
   "cell_type": "code",
   "execution_count": 68,
   "id": "dc9a72a8-c280-4e6d-8b3d-c8d98ac73219",
   "metadata": {},
   "outputs": [
    {
     "data": {
      "text/plain": [
       "<seaborn.axisgrid.PairGrid at 0x7f692743ef40>"
      ]
     },
     "execution_count": 68,
     "metadata": {},
     "output_type": "execute_result"
    },
    {
     "data": {
      "image/png": "[encoded data removed]",
      "text/plain": [
       "<Figure size 773.6x720 with 20 Axes>"
      ]
     },
     "metadata": {},
     "output_type": "display_data"
    }
   ],
   "source": [
    "#for w in winners_:\n",
    "sn.set_theme(style=\"ticks\")\n",
    "\n",
    "t = temp_train[np.concatenate([['target'],winners_])]\n",
    "t_ = t[['target']]\n",
    "t_.columns = ['target2']\n",
    "#t_.rename('target2')\n",
    "t = pd.concat([t,t_],axis=1)\n",
    "sn.pairplot(t, hue=\"target\")\n",
    "    #plt.scatter(temp_train[['target']], temp_train[[w]])"
   ]
  },
  {
   "cell_type": "code",
   "execution_count": 69,
   "id": "0f623afd-39d9-44bf-b185-f0e0071fe26c",
   "metadata": {},
   "outputs": [
    {
     "name": "stdout",
     "output_type": "stream",
     "text": [
      "0\n",
      "1\n"
     ]
    }
   ],
   "source": [
    "seasonal = inverses[0][1]\n",
    "print(seasonal)\n",
    "nonseasonal = inverses[0][2]\n",
    "print(nonseasonal)\n"
   ]
  },
  {
   "cell_type": "code",
   "execution_count": null,
   "id": "d9545641-8a05-4190-920f-f8eb509bd30f",
   "metadata": {},
   "outputs": [],
   "source": []
  },
  {
   "cell_type": "code",
   "execution_count": null,
   "id": "900eac71-84c7-4e54-989b-2f78c99aace5",
   "metadata": {},
   "outputs": [],
   "source": []
  },
  {
   "cell_type": "code",
   "execution_count": null,
   "id": "71755a17-dfa2-479d-a3f9-d91134239c45",
   "metadata": {},
   "outputs": [],
   "source": []
  },
  {
   "cell_type": "code",
   "execution_count": 71,
   "id": "508fe348-072f-4814-a7c3-af7f24cf7f1e",
   "metadata": {},
   "outputs": [
    {
     "data": {
      "text/plain": [
       "'\\nnewindex = []\\n\\nfor i in range(0,len(temp_train.index)):\\n    newindex.append(temp_train.index[i])\\n\\nfor i in range(0,nonseasonal):\\n    newindex.append(last_day_of_month(temp_train.index[-1] + pd.DateOffset(90*i)))\\n    \\nlen(newindex)\\n\\n\\n'"
      ]
     },
     "execution_count": 71,
     "metadata": {},
     "output_type": "execute_result"
    }
   ],
   "source": [
    "'''\n",
    "newindex = []\n",
    "\n",
    "for i in range(0,len(temp_train.index)):\n",
    "    newindex.append(temp_train.index[i])\n",
    "\n",
    "for i in range(0,nonseasonal):\n",
    "    newindex.append(last_day_of_month(temp_train.index[-1] + pd.DateOffset(90*i)))\n",
    "    \n",
    "len(newindex)\n",
    "\n",
    "\n",
    "'''"
   ]
  },
  {
   "cell_type": "code",
   "execution_count": null,
   "id": "e6fa1c1d-2570-4358-9aae-d501ba283957",
   "metadata": {},
   "outputs": [],
   "source": []
  },
  {
   "cell_type": "code",
   "execution_count": null,
   "id": "b8c92d06-1f79-434f-a853-feee79505a0f",
   "metadata": {},
   "outputs": [],
   "source": []
  },
  {
   "cell_type": "code",
   "execution_count": null,
   "id": "43e01950-56b2-47a2-912f-d14205be653b",
   "metadata": {},
   "outputs": [],
   "source": []
  },
  {
   "cell_type": "code",
   "execution_count": null,
   "id": "b1d7b73e-53f9-40eb-b071-b80cb8361155",
   "metadata": {},
   "outputs": [],
   "source": []
  },
  {
   "cell_type": "code",
   "execution_count": 72,
   "id": "0b9f6b90-3aa9-4ae8-afc2-e3c386d8ecc8",
   "metadata": {},
   "outputs": [
    {
     "name": "stdout",
     "output_type": "stream",
     "text": [
      "you have to know what xi for which use case you are going to use\n",
      "you have to know what xi for which use case you are going to use\n",
      "you have to know what xi for which use case you are going to use\n",
      "you have to know what xi for which use case you are going to use\n"
     ]
    }
   ],
   "source": [
    "train_prior_date = raw_int[chosen].index[np.argwhere(raw_int.index==temp_train['target'].index[0]).ravel()[0]-nonseasonal-(seasonal*season)]\n",
    "train_prior_date_1 = raw_int[chosen].index[np.argwhere(raw_int.index==temp_train['target'].index[0]).ravel()[0]-1]\n",
    "\n",
    "train_xi=raw_int[chosen].loc[train_prior_date:train_prior_date_1]\n",
    "\n",
    "undiffed_train = pd.DataFrame(undiff(temp_train['target'], seasonal, nonseasonal, train_xi),columns=['target']).set_index(temp_train.index)\n",
    "undiffed_train_forecast = pd.DataFrame(undiff(train_forecast, seasonal, nonseasonal, train_xi),columns=['target']).set_index(temp_train.index)\n",
    "\n",
    "test_prior_date = raw_int[chosen].index[np.argwhere(data_final.index==temp_test['target'].index[0]).ravel()[0]-nonseasonal-(seasonal*season)]\n",
    "test_prior_date_1 = raw_int[chosen].index[np.argwhere(data_final.index==temp_test['target'].index[0]).ravel()[0]-1]\n",
    "\n",
    "test_xi=raw_int[chosen].loc[test_prior_date:test_prior_date_1]\n",
    "\n",
    "#[raw_int[chosen].loc[temp_train['target'].index[-1]]]\n",
    "undiffed_test_forecast = pd.DataFrame(undiff(test_forecast, seasonal, nonseasonal,test_xi),columns=['target']).set_index(temp_test.index)\n",
    "undiffed_test = pd.DataFrame(undiff(temp_test['target'].dropna(), 0, nonseasonal,test_xi),columns=['target']).set_index(temp_test.index)"
   ]
  },
  {
   "cell_type": "code",
   "execution_count": null,
   "id": "a0986fa3-c48a-457b-a35f-68192aa26365",
   "metadata": {},
   "outputs": [],
   "source": []
  },
  {
   "cell_type": "code",
   "execution_count": 73,
   "id": "daeeb70c-1575-4af9-9612-8071be089962",
   "metadata": {},
   "outputs": [
    {
     "data": {
      "text/html": [
       "<div>\n",
       "<style scoped>\n",
       "    .dataframe tbody tr th:only-of-type {\n",
       "        vertical-align: middle;\n",
       "    }\n",
       "\n",
       "    .dataframe tbody tr th {\n",
       "        vertical-align: top;\n",
       "    }\n",
       "\n",
       "    .dataframe thead th {\n",
       "        text-align: right;\n",
       "    }\n",
       "</style>\n",
       "<table border=\"1\" class=\"dataframe\">\n",
       "  <thead>\n",
       "    <tr style=\"text-align: right;\">\n",
       "      <th></th>\n",
       "      <th>target</th>\n",
       "    </tr>\n",
       "    <tr>\n",
       "      <th>Date</th>\n",
       "      <th></th>\n",
       "    </tr>\n",
       "  </thead>\n",
       "  <tbody>\n",
       "    <tr>\n",
       "      <th>2011-06-30</th>\n",
       "      <td>175.932184</td>\n",
       "    </tr>\n",
       "    <tr>\n",
       "      <th>2011-09-30</th>\n",
       "      <td>172.022454</td>\n",
       "    </tr>\n",
       "    <tr>\n",
       "      <th>2011-12-31</th>\n",
       "      <td>168.356936</td>\n",
       "    </tr>\n",
       "    <tr>\n",
       "      <th>2012-03-31</th>\n",
       "      <td>168.049978</td>\n",
       "    </tr>\n",
       "    <tr>\n",
       "      <th>2012-06-30</th>\n",
       "      <td>169.572735</td>\n",
       "    </tr>\n",
       "    <tr>\n",
       "      <th>2012-09-30</th>\n",
       "      <td>174.382717</td>\n",
       "    </tr>\n",
       "    <tr>\n",
       "      <th>2012-12-31</th>\n",
       "      <td>181.761650</td>\n",
       "    </tr>\n",
       "    <tr>\n",
       "      <th>2013-03-31</th>\n",
       "      <td>191.365079</td>\n",
       "    </tr>\n",
       "    <tr>\n",
       "      <th>2013-06-30</th>\n",
       "      <td>207.675543</td>\n",
       "    </tr>\n",
       "    <tr>\n",
       "      <th>2013-09-30</th>\n",
       "      <td>220.571638</td>\n",
       "    </tr>\n",
       "    <tr>\n",
       "      <th>2013-12-31</th>\n",
       "      <td>227.529981</td>\n",
       "    </tr>\n",
       "    <tr>\n",
       "      <th>2014-03-31</th>\n",
       "      <td>231.511242</td>\n",
       "    </tr>\n",
       "    <tr>\n",
       "      <th>2014-06-30</th>\n",
       "      <td>234.726689</td>\n",
       "    </tr>\n",
       "    <tr>\n",
       "      <th>2014-09-30</th>\n",
       "      <td>235.645505</td>\n",
       "    </tr>\n",
       "    <tr>\n",
       "      <th>2014-12-31</th>\n",
       "      <td>239.469879</td>\n",
       "    </tr>\n",
       "    <tr>\n",
       "      <th>2015-03-31</th>\n",
       "      <td>244.348070</td>\n",
       "    </tr>\n",
       "    <tr>\n",
       "      <th>2015-06-30</th>\n",
       "      <td>246.386988</td>\n",
       "    </tr>\n",
       "    <tr>\n",
       "      <th>2015-09-30</th>\n",
       "      <td>249.809286</td>\n",
       "    </tr>\n",
       "    <tr>\n",
       "      <th>2015-12-31</th>\n",
       "      <td>254.784247</td>\n",
       "    </tr>\n",
       "    <tr>\n",
       "      <th>2016-03-31</th>\n",
       "      <td>259.778989</td>\n",
       "    </tr>\n",
       "    <tr>\n",
       "      <th>2016-06-30</th>\n",
       "      <td>263.344528</td>\n",
       "    </tr>\n",
       "    <tr>\n",
       "      <th>2016-09-30</th>\n",
       "      <td>266.594311</td>\n",
       "    </tr>\n",
       "    <tr>\n",
       "      <th>2016-12-31</th>\n",
       "      <td>270.941091</td>\n",
       "    </tr>\n",
       "  </tbody>\n",
       "</table>\n",
       "</div>"
      ],
      "text/plain": [
       "                target\n",
       "Date                  \n",
       "2011-06-30  175.932184\n",
       "2011-09-30  172.022454\n",
       "2011-12-31  168.356936\n",
       "2012-03-31  168.049978\n",
       "2012-06-30  169.572735\n",
       "2012-09-30  174.382717\n",
       "2012-12-31  181.761650\n",
       "2013-03-31  191.365079\n",
       "2013-06-30  207.675543\n",
       "2013-09-30  220.571638\n",
       "2013-12-31  227.529981\n",
       "2014-03-31  231.511242\n",
       "2014-06-30  234.726689\n",
       "2014-09-30  235.645505\n",
       "2014-12-31  239.469879\n",
       "2015-03-31  244.348070\n",
       "2015-06-30  246.386988\n",
       "2015-09-30  249.809286\n",
       "2015-12-31  254.784247\n",
       "2016-03-31  259.778989\n",
       "2016-06-30  263.344528\n",
       "2016-09-30  266.594311\n",
       "2016-12-31  270.941091"
      ]
     },
     "execution_count": 73,
     "metadata": {},
     "output_type": "execute_result"
    }
   ],
   "source": [
    "undiffed_train"
   ]
  },
  {
   "cell_type": "code",
   "execution_count": 74,
   "id": "69d9ad5d-8276-42d5-80e2-936b96329886",
   "metadata": {},
   "outputs": [],
   "source": [
    "#plt.plot(pd.concat([raw_int.loc[temp_train.index][[chosen]],pd.DataFrame(undiff(temp_train['target'], seasonal, nonseasonal, train_xi),columns=['target']).set_index(temp_train.index)],axis=1))"
   ]
  },
  {
   "cell_type": "code",
   "execution_count": 75,
   "id": "dfb18675-ac53-4a62-8401-580f8f96f484",
   "metadata": {},
   "outputs": [
    {
     "data": {
      "image/png": "[encoded data removed]",
      "text/plain": [
       "<Figure size 432x288 with 1 Axes>"
      ]
     },
     "metadata": {},
     "output_type": "display_data"
    },
    {
     "data": {
      "image/png": "[encoded data removed]",
      "text/plain": [
       "<Figure size 432x288 with 1 Axes>"
      ]
     },
     "metadata": {},
     "output_type": "display_data"
    },
    {
     "data": {
      "image/png": "[encoded data removed]",
      "text/plain": [
       "<Figure size 432x288 with 1 Axes>"
      ]
     },
     "metadata": {},
     "output_type": "display_data"
    },
    {
     "data": {
      "image/png": "[encoded data removed]",
      "text/plain": [
       "<Figure size 432x288 with 1 Axes>"
      ]
     },
     "metadata": {},
     "output_type": "display_data"
    },
    {
     "data": {
      "text/plain": [
       "[<matplotlib.lines.Line2D at 0x7f6879157ac0>,\n",
       " <matplotlib.lines.Line2D at 0x7f687bb1e550>]"
      ]
     },
     "execution_count": 75,
     "metadata": {},
     "output_type": "execute_result"
    },
    {
     "data": {
      "image/png": "[encoded data removed]",
      "text/plain": [
       "<Figure size 432x288 with 1 Axes>"
      ]
     },
     "metadata": {},
     "output_type": "display_data"
    }
   ],
   "source": [
    "plt.plot(raw_int[chosen])\n",
    "plt.show()\n",
    "plt.plot(pd.concat([undiffed_train,undiffed_test],axis=0))\n",
    "plt.show()\n",
    "plt.plot(pd.concat([undiffed_train_forecast,undiffed_test_forecast],axis=0))\n",
    "plt.show()\n",
    "plt.plot(pd.concat([undiffed_train,undiffed_train_forecast],axis=1))\n",
    "plt.show()\n",
    "plt.plot(pd.concat([undiffed_test,undiffed_test_forecast],axis=1))"
   ]
  },
  {
   "cell_type": "code",
   "execution_count": 76,
   "id": "f12af90d-66c6-4441-9279-604725aaca0c",
   "metadata": {},
   "outputs": [],
   "source": [
    "import scipy.stats as stats\n",
    "#stats.f_oneway(a,b)"
   ]
  },
  {
   "cell_type": "code",
   "execution_count": 77,
   "id": "e144ae44-bcc2-4218-a240-5529ddf451a2",
   "metadata": {},
   "outputs": [
    {
     "data": {
      "text/plain": [
       "23"
      ]
     },
     "execution_count": 77,
     "metadata": {},
     "output_type": "execute_result"
    }
   ],
   "source": [
    "len(temp_train['target'])"
   ]
  },
  {
   "cell_type": "code",
   "execution_count": 78,
   "id": "6de7394d-a5df-4129-918f-dfcda4681d2f",
   "metadata": {},
   "outputs": [
    {
     "data": {
      "text/plain": [
       "19"
      ]
     },
     "execution_count": 78,
     "metadata": {},
     "output_type": "execute_result"
    }
   ],
   "source": [
    "len(temp_test['target'])"
   ]
  },
  {
   "cell_type": "code",
   "execution_count": 79,
   "id": "49b31f01-c16b-4eab-86c1-3ff8a3292ae6",
   "metadata": {},
   "outputs": [
    {
     "data": {
      "text/plain": [
       "9"
      ]
     },
     "execution_count": 79,
     "metadata": {},
     "output_type": "execute_result"
    }
   ],
   "source": [
    "len(ccf_scores)"
   ]
  },
  {
   "cell_type": "code",
   "execution_count": null,
   "id": "fc38d410-94ca-4354-986a-ddd53920b7af",
   "metadata": {},
   "outputs": [],
   "source": []
  },
  {
   "cell_type": "code",
   "execution_count": null,
   "id": "033530f2-1400-4972-a286-14bbfe9e43fd",
   "metadata": {},
   "outputs": [],
   "source": []
  },
  {
   "cell_type": "code",
   "execution_count": null,
   "id": "e89a042d-6094-4786-b199-8a58b8ecb111",
   "metadata": {},
   "outputs": [],
   "source": []
  },
  {
   "cell_type": "code",
   "execution_count": 80,
   "id": "5c56db6d-90e9-419f-8f42-11533d3d0dcd",
   "metadata": {},
   "outputs": [
    {
     "data": {
      "text/plain": [
       "Timestamp('2021-09-30 00:00:00')"
      ]
     },
     "execution_count": 80,
     "metadata": {},
     "output_type": "execute_result"
    }
   ],
   "source": [
    "raw_int[chosen].index[np.argwhere(results.fittedvalues.index==results.fittedvalues.index[0]).ravel()[0]-nonseasonal-(seasonal*season)]"
   ]
  },
  {
   "cell_type": "code",
   "execution_count": null,
   "id": "fc3d8a51-c6c9-4c4a-9f63-59ccfc7536af",
   "metadata": {},
   "outputs": [],
   "source": []
  },
  {
   "cell_type": "code",
   "execution_count": 81,
   "id": "48fd4ded-28aa-450d-8da8-cd9ef56757b9",
   "metadata": {},
   "outputs": [
    {
     "name": "stdout",
     "output_type": "stream",
     "text": [
      "you have to know what xi for which use case you are going to use\n",
      "you have to know what xi for which use case you are going to use\n"
     ]
    },
    {
     "data": {
      "text/plain": [
       "\"\\ntest_prior_date = raw_int[chosen].index[np.argwhere(data_final.index==temp_test['target'].index[0]).ravel()[0]-nonseasonal-(seasonal*season)]\\ntest_prior_date_1 = raw_int[chosen].index[np.argwhere(data_final.index==temp_test['target'].index[0]).ravel()[0]-1]\\n\\ntest_xi=raw_int[chosen].loc[test_prior_date:test_prior_date_1]\\n\\n#[raw_int[chosen].loc[temp_train['target'].index[-1]]]\\nundiffed_test_forecast = pd.DataFrame(undiff(test_forecast, seasonal, nonseasonal,test_xi),columns=['target']).set_index(temp_test.index)\\nundiffed_test = pd.DataFrame(undiff(temp_test['target'].dropna(), 0, nonseasonal,test_xi),columns=['target']).set_index(temp_test.index)\\n\""
      ]
     },
     "execution_count": 81,
     "metadata": {},
     "output_type": "execute_result"
    },
    {
     "data": {
      "image/png": "[encoded data removed]",
      "text/plain": [
       "<Figure size 432x288 with 1 Axes>"
      ]
     },
     "metadata": {},
     "output_type": "display_data"
    }
   ],
   "source": [
    "prior_date = raw_int[chosen].index[np.argwhere(raw_int.index==data_final['target'].dropna().index[0]).ravel()[0]-nonseasonal-(seasonal*season)]\n",
    "prior_date_1 = raw_int[chosen].index[np.argwhere(raw_int.index==data_final['target'].dropna().index[0]).ravel()[0]-1]\n",
    "\n",
    "xi=raw_int[chosen].loc[prior_date:prior_date_1]\n",
    "\n",
    "undiffed_ = pd.DataFrame(undiff(data_final['target'].dropna(), seasonal, nonseasonal, xi),columns=['target']).set_index(data_final['target'].dropna().index)\n",
    "\n",
    "prior_date_ = raw_int[chosen].index[np.argwhere(raw_int.index==results.fittedvalues.index[0]).ravel()[0]-nonseasonal-(seasonal*season)]\n",
    "prior_date_1_ = raw_int[chosen].index[np.argwhere(raw_int.index==results.fittedvalues.index[0]).ravel()[0]-1]\n",
    "\n",
    "xi_=raw_int[chosen].loc[prior_date_:prior_date_1_]\n",
    "\n",
    "undiffed_forecast = pd.DataFrame(undiff(results.fittedvalues, seasonal, nonseasonal, xi_),columns=['target']).set_index(results.fittedvalues.index)\n",
    "\n",
    "plt.plot(undiffed_)\n",
    "plt.plot(undiffed_forecast)\n",
    "'''\n",
    "test_prior_date = raw_int[chosen].index[np.argwhere(data_final.index==temp_test['target'].index[0]).ravel()[0]-nonseasonal-(seasonal*season)]\n",
    "test_prior_date_1 = raw_int[chosen].index[np.argwhere(data_final.index==temp_test['target'].index[0]).ravel()[0]-1]\n",
    "\n",
    "test_xi=raw_int[chosen].loc[test_prior_date:test_prior_date_1]\n",
    "\n",
    "#[raw_int[chosen].loc[temp_train['target'].index[-1]]]\n",
    "undiffed_test_forecast = pd.DataFrame(undiff(test_forecast, seasonal, nonseasonal,test_xi),columns=['target']).set_index(temp_test.index)\n",
    "undiffed_test = pd.DataFrame(undiff(temp_test['target'].dropna(), 0, nonseasonal,test_xi),columns=['target']).set_index(temp_test.index)\n",
    "'''\n"
   ]
  },
  {
   "cell_type": "code",
   "execution_count": 82,
   "id": "b1ada71d-126d-4234-8f45-d66f6fe9136c",
   "metadata": {},
   "outputs": [
    {
     "data": {
      "text/html": [
       "<div>\n",
       "<style scoped>\n",
       "    .dataframe tbody tr th:only-of-type {\n",
       "        vertical-align: middle;\n",
       "    }\n",
       "\n",
       "    .dataframe tbody tr th {\n",
       "        vertical-align: top;\n",
       "    }\n",
       "\n",
       "    .dataframe thead th {\n",
       "        text-align: right;\n",
       "    }\n",
       "</style>\n",
       "<table border=\"1\" class=\"dataframe\">\n",
       "  <thead>\n",
       "    <tr style=\"text-align: right;\">\n",
       "      <th></th>\n",
       "      <th>target</th>\n",
       "    </tr>\n",
       "    <tr>\n",
       "      <th>Date</th>\n",
       "      <th></th>\n",
       "    </tr>\n",
       "  </thead>\n",
       "  <tbody>\n",
       "    <tr>\n",
       "      <th>2008-06-30</th>\n",
       "      <td>229.624413</td>\n",
       "    </tr>\n",
       "    <tr>\n",
       "      <th>2008-09-30</th>\n",
       "      <td>216.498708</td>\n",
       "    </tr>\n",
       "    <tr>\n",
       "      <th>2008-12-31</th>\n",
       "      <td>204.519057</td>\n",
       "    </tr>\n",
       "    <tr>\n",
       "      <th>2009-03-31</th>\n",
       "      <td>191.596232</td>\n",
       "    </tr>\n",
       "    <tr>\n",
       "      <th>2009-06-30</th>\n",
       "      <td>186.061183</td>\n",
       "    </tr>\n",
       "    <tr>\n",
       "      <th>2009-09-30</th>\n",
       "      <td>187.375592</td>\n",
       "    </tr>\n",
       "    <tr>\n",
       "      <th>2009-12-31</th>\n",
       "      <td>190.829676</td>\n",
       "    </tr>\n",
       "    <tr>\n",
       "      <th>2010-03-31</th>\n",
       "      <td>191.513049</td>\n",
       "    </tr>\n",
       "    <tr>\n",
       "      <th>2010-06-30</th>\n",
       "      <td>189.594535</td>\n",
       "    </tr>\n",
       "    <tr>\n",
       "      <th>2010-09-30</th>\n",
       "      <td>185.676231</td>\n",
       "    </tr>\n",
       "    <tr>\n",
       "      <th>2010-12-31</th>\n",
       "      <td>182.541971</td>\n",
       "    </tr>\n",
       "    <tr>\n",
       "      <th>2011-03-31</th>\n",
       "      <td>179.909367</td>\n",
       "    </tr>\n",
       "    <tr>\n",
       "      <th>2011-06-30</th>\n",
       "      <td>175.932184</td>\n",
       "    </tr>\n",
       "    <tr>\n",
       "      <th>2011-09-30</th>\n",
       "      <td>172.022454</td>\n",
       "    </tr>\n",
       "    <tr>\n",
       "      <th>2011-12-31</th>\n",
       "      <td>168.356936</td>\n",
       "    </tr>\n",
       "    <tr>\n",
       "      <th>2012-03-31</th>\n",
       "      <td>168.049978</td>\n",
       "    </tr>\n",
       "    <tr>\n",
       "      <th>2012-06-30</th>\n",
       "      <td>169.572735</td>\n",
       "    </tr>\n",
       "    <tr>\n",
       "      <th>2012-09-30</th>\n",
       "      <td>174.382717</td>\n",
       "    </tr>\n",
       "    <tr>\n",
       "      <th>2012-12-31</th>\n",
       "      <td>181.761650</td>\n",
       "    </tr>\n",
       "    <tr>\n",
       "      <th>2013-03-31</th>\n",
       "      <td>191.365079</td>\n",
       "    </tr>\n",
       "    <tr>\n",
       "      <th>2013-06-30</th>\n",
       "      <td>207.675543</td>\n",
       "    </tr>\n",
       "    <tr>\n",
       "      <th>2013-09-30</th>\n",
       "      <td>220.571638</td>\n",
       "    </tr>\n",
       "    <tr>\n",
       "      <th>2013-12-31</th>\n",
       "      <td>227.529981</td>\n",
       "    </tr>\n",
       "    <tr>\n",
       "      <th>2014-03-31</th>\n",
       "      <td>231.511242</td>\n",
       "    </tr>\n",
       "    <tr>\n",
       "      <th>2014-06-30</th>\n",
       "      <td>234.726689</td>\n",
       "    </tr>\n",
       "    <tr>\n",
       "      <th>2014-09-30</th>\n",
       "      <td>235.645505</td>\n",
       "    </tr>\n",
       "    <tr>\n",
       "      <th>2014-12-31</th>\n",
       "      <td>239.469879</td>\n",
       "    </tr>\n",
       "    <tr>\n",
       "      <th>2015-03-31</th>\n",
       "      <td>244.348070</td>\n",
       "    </tr>\n",
       "    <tr>\n",
       "      <th>2015-06-30</th>\n",
       "      <td>246.386988</td>\n",
       "    </tr>\n",
       "    <tr>\n",
       "      <th>2015-09-30</th>\n",
       "      <td>249.809286</td>\n",
       "    </tr>\n",
       "    <tr>\n",
       "      <th>2015-12-31</th>\n",
       "      <td>254.784247</td>\n",
       "    </tr>\n",
       "    <tr>\n",
       "      <th>2016-03-31</th>\n",
       "      <td>259.778989</td>\n",
       "    </tr>\n",
       "    <tr>\n",
       "      <th>2016-06-30</th>\n",
       "      <td>263.344528</td>\n",
       "    </tr>\n",
       "    <tr>\n",
       "      <th>2016-09-30</th>\n",
       "      <td>266.594311</td>\n",
       "    </tr>\n",
       "    <tr>\n",
       "      <th>2016-12-31</th>\n",
       "      <td>270.941091</td>\n",
       "    </tr>\n",
       "    <tr>\n",
       "      <th>2017-03-31</th>\n",
       "      <td>275.698766</td>\n",
       "    </tr>\n",
       "    <tr>\n",
       "      <th>2017-06-30</th>\n",
       "      <td>280.364552</td>\n",
       "    </tr>\n",
       "    <tr>\n",
       "      <th>2017-09-30</th>\n",
       "      <td>285.042197</td>\n",
       "    </tr>\n",
       "    <tr>\n",
       "      <th>2017-12-31</th>\n",
       "      <td>292.533721</td>\n",
       "    </tr>\n",
       "    <tr>\n",
       "      <th>2018-03-31</th>\n",
       "      <td>298.239204</td>\n",
       "    </tr>\n",
       "    <tr>\n",
       "      <th>2018-06-30</th>\n",
       "      <td>302.873707</td>\n",
       "    </tr>\n",
       "    <tr>\n",
       "      <th>2018-09-30</th>\n",
       "      <td>305.753724</td>\n",
       "    </tr>\n",
       "    <tr>\n",
       "      <th>2018-12-31</th>\n",
       "      <td>304.870128</td>\n",
       "    </tr>\n",
       "    <tr>\n",
       "      <th>2019-03-31</th>\n",
       "      <td>305.307848</td>\n",
       "    </tr>\n",
       "    <tr>\n",
       "      <th>2019-06-30</th>\n",
       "      <td>304.443208</td>\n",
       "    </tr>\n",
       "    <tr>\n",
       "      <th>2019-09-30</th>\n",
       "      <td>305.836594</td>\n",
       "    </tr>\n",
       "    <tr>\n",
       "      <th>2019-12-31</th>\n",
       "      <td>308.548523</td>\n",
       "    </tr>\n",
       "    <tr>\n",
       "      <th>2020-03-31</th>\n",
       "      <td>312.681214</td>\n",
       "    </tr>\n",
       "    <tr>\n",
       "      <th>2020-06-30</th>\n",
       "      <td>313.349866</td>\n",
       "    </tr>\n",
       "    <tr>\n",
       "      <th>2020-09-30</th>\n",
       "      <td>317.611373</td>\n",
       "    </tr>\n",
       "    <tr>\n",
       "      <th>2020-12-31</th>\n",
       "      <td>324.242776</td>\n",
       "    </tr>\n",
       "    <tr>\n",
       "      <th>2021-03-31</th>\n",
       "      <td>331.404781</td>\n",
       "    </tr>\n",
       "    <tr>\n",
       "      <th>2021-06-30</th>\n",
       "      <td>344.639643</td>\n",
       "    </tr>\n",
       "    <tr>\n",
       "      <th>2021-09-30</th>\n",
       "      <td>357.143818</td>\n",
       "    </tr>\n",
       "  </tbody>\n",
       "</table>\n",
       "</div>"
      ],
      "text/plain": [
       "                target\n",
       "Date                  \n",
       "2008-06-30  229.624413\n",
       "2008-09-30  216.498708\n",
       "2008-12-31  204.519057\n",
       "2009-03-31  191.596232\n",
       "2009-06-30  186.061183\n",
       "2009-09-30  187.375592\n",
       "2009-12-31  190.829676\n",
       "2010-03-31  191.513049\n",
       "2010-06-30  189.594535\n",
       "2010-09-30  185.676231\n",
       "2010-12-31  182.541971\n",
       "2011-03-31  179.909367\n",
       "2011-06-30  175.932184\n",
       "2011-09-30  172.022454\n",
       "2011-12-31  168.356936\n",
       "2012-03-31  168.049978\n",
       "2012-06-30  169.572735\n",
       "2012-09-30  174.382717\n",
       "2012-12-31  181.761650\n",
       "2013-03-31  191.365079\n",
       "2013-06-30  207.675543\n",
       "2013-09-30  220.571638\n",
       "2013-12-31  227.529981\n",
       "2014-03-31  231.511242\n",
       "2014-06-30  234.726689\n",
       "2014-09-30  235.645505\n",
       "2014-12-31  239.469879\n",
       "2015-03-31  244.348070\n",
       "2015-06-30  246.386988\n",
       "2015-09-30  249.809286\n",
       "2015-12-31  254.784247\n",
       "2016-03-31  259.778989\n",
       "2016-06-30  263.344528\n",
       "2016-09-30  266.594311\n",
       "2016-12-31  270.941091\n",
       "2017-03-31  275.698766\n",
       "2017-06-30  280.364552\n",
       "2017-09-30  285.042197\n",
       "2017-12-31  292.533721\n",
       "2018-03-31  298.239204\n",
       "2018-06-30  302.873707\n",
       "2018-09-30  305.753724\n",
       "2018-12-31  304.870128\n",
       "2019-03-31  305.307848\n",
       "2019-06-30  304.443208\n",
       "2019-09-30  305.836594\n",
       "2019-12-31  308.548523\n",
       "2020-03-31  312.681214\n",
       "2020-06-30  313.349866\n",
       "2020-09-30  317.611373\n",
       "2020-12-31  324.242776\n",
       "2021-03-31  331.404781\n",
       "2021-06-30  344.639643\n",
       "2021-09-30  357.143818"
      ]
     },
     "execution_count": 82,
     "metadata": {},
     "output_type": "execute_result"
    }
   ],
   "source": [
    "undiffed_"
   ]
  },
  {
   "cell_type": "code",
   "execution_count": 83,
   "id": "2a92a50f-7f32-46ea-89a9-5999b73eeb3b",
   "metadata": {},
   "outputs": [
    {
     "data": {
      "text/html": [
       "<div>\n",
       "<style scoped>\n",
       "    .dataframe tbody tr th:only-of-type {\n",
       "        vertical-align: middle;\n",
       "    }\n",
       "\n",
       "    .dataframe tbody tr th {\n",
       "        vertical-align: top;\n",
       "    }\n",
       "\n",
       "    .dataframe thead th {\n",
       "        text-align: right;\n",
       "    }\n",
       "</style>\n",
       "<table border=\"1\" class=\"dataframe\">\n",
       "  <thead>\n",
       "    <tr style=\"text-align: right;\">\n",
       "      <th></th>\n",
       "      <th>target</th>\n",
       "    </tr>\n",
       "    <tr>\n",
       "      <th>Date</th>\n",
       "      <th></th>\n",
       "    </tr>\n",
       "  </thead>\n",
       "  <tbody>\n",
       "    <tr>\n",
       "      <th>2011-06-30</th>\n",
       "      <td>186.015636</td>\n",
       "    </tr>\n",
       "    <tr>\n",
       "      <th>2011-09-30</th>\n",
       "      <td>187.518525</td>\n",
       "    </tr>\n",
       "    <tr>\n",
       "      <th>2011-12-31</th>\n",
       "      <td>188.335315</td>\n",
       "    </tr>\n",
       "    <tr>\n",
       "      <th>2012-03-31</th>\n",
       "      <td>185.872485</td>\n",
       "    </tr>\n",
       "    <tr>\n",
       "      <th>2012-06-30</th>\n",
       "      <td>188.436255</td>\n",
       "    </tr>\n",
       "    <tr>\n",
       "      <th>2012-09-30</th>\n",
       "      <td>195.808035</td>\n",
       "    </tr>\n",
       "    <tr>\n",
       "      <th>2012-12-31</th>\n",
       "      <td>202.194843</td>\n",
       "    </tr>\n",
       "    <tr>\n",
       "      <th>2013-03-31</th>\n",
       "      <td>209.641559</td>\n",
       "    </tr>\n",
       "    <tr>\n",
       "      <th>2013-06-30</th>\n",
       "      <td>215.997155</td>\n",
       "    </tr>\n",
       "    <tr>\n",
       "      <th>2013-09-30</th>\n",
       "      <td>221.305404</td>\n",
       "    </tr>\n",
       "    <tr>\n",
       "      <th>2013-12-31</th>\n",
       "      <td>230.521703</td>\n",
       "    </tr>\n",
       "    <tr>\n",
       "      <th>2014-03-31</th>\n",
       "      <td>235.411937</td>\n",
       "    </tr>\n",
       "    <tr>\n",
       "      <th>2014-06-30</th>\n",
       "      <td>238.392882</td>\n",
       "    </tr>\n",
       "    <tr>\n",
       "      <th>2014-09-30</th>\n",
       "      <td>240.762957</td>\n",
       "    </tr>\n",
       "    <tr>\n",
       "      <th>2014-12-31</th>\n",
       "      <td>244.740331</td>\n",
       "    </tr>\n",
       "    <tr>\n",
       "      <th>2015-03-31</th>\n",
       "      <td>248.714915</td>\n",
       "    </tr>\n",
       "    <tr>\n",
       "      <th>2015-06-30</th>\n",
       "      <td>251.643963</td>\n",
       "    </tr>\n",
       "    <tr>\n",
       "      <th>2015-09-30</th>\n",
       "      <td>256.653983</td>\n",
       "    </tr>\n",
       "    <tr>\n",
       "      <th>2015-12-31</th>\n",
       "      <td>260.703503</td>\n",
       "    </tr>\n",
       "    <tr>\n",
       "      <th>2016-03-31</th>\n",
       "      <td>264.608813</td>\n",
       "    </tr>\n",
       "    <tr>\n",
       "      <th>2016-06-30</th>\n",
       "      <td>268.023682</td>\n",
       "    </tr>\n",
       "    <tr>\n",
       "      <th>2016-09-30</th>\n",
       "      <td>270.886076</td>\n",
       "    </tr>\n",
       "    <tr>\n",
       "      <th>2016-12-31</th>\n",
       "      <td>270.941091</td>\n",
       "    </tr>\n",
       "  </tbody>\n",
       "</table>\n",
       "</div>"
      ],
      "text/plain": [
       "                target\n",
       "Date                  \n",
       "2011-06-30  186.015636\n",
       "2011-09-30  187.518525\n",
       "2011-12-31  188.335315\n",
       "2012-03-31  185.872485\n",
       "2012-06-30  188.436255\n",
       "2012-09-30  195.808035\n",
       "2012-12-31  202.194843\n",
       "2013-03-31  209.641559\n",
       "2013-06-30  215.997155\n",
       "2013-09-30  221.305404\n",
       "2013-12-31  230.521703\n",
       "2014-03-31  235.411937\n",
       "2014-06-30  238.392882\n",
       "2014-09-30  240.762957\n",
       "2014-12-31  244.740331\n",
       "2015-03-31  248.714915\n",
       "2015-06-30  251.643963\n",
       "2015-09-30  256.653983\n",
       "2015-12-31  260.703503\n",
       "2016-03-31  264.608813\n",
       "2016-06-30  268.023682\n",
       "2016-09-30  270.886076\n",
       "2016-12-31  270.941091"
      ]
     },
     "execution_count": 83,
     "metadata": {},
     "output_type": "execute_result"
    }
   ],
   "source": [
    "undiffed_forecast"
   ]
  },
  {
   "cell_type": "code",
   "execution_count": 84,
   "id": "57fe0c34-945c-4d88-8b69-872ef9a7bf2e",
   "metadata": {},
   "outputs": [
    {
     "data": {
      "text/plain": [
       "289"
      ]
     },
     "execution_count": 84,
     "metadata": {},
     "output_type": "execute_result"
    }
   ],
   "source": [
    "len(best_lags)"
   ]
  },
  {
   "cell_type": "code",
   "execution_count": 85,
   "id": "8ea06832-da34-424d-9019-875c7040cde4",
   "metadata": {},
   "outputs": [
    {
     "name": "stdout",
     "output_type": "stream",
     "text": [
      "                            OLS Regression Results                            \n",
      "==============================================================================\n",
      "Dep. Variable:                 target   R-squared:                       0.034\n",
      "Model:                            OLS   Adj. R-squared:                  0.010\n",
      "Method:                 Least Squares   F-statistic:                     1.421\n",
      "Date:                Fri, 07 Jan 2022   Prob (F-statistic):              0.240\n",
      "Time:                        23:34:35   Log-Likelihood:                -120.24\n",
      "No. Observations:                  42   AIC:                             244.5\n",
      "Df Residuals:                      40   BIC:                             248.0\n",
      "Df Model:                           1                                         \n",
      "Covariance Type:            nonrobust                                         \n",
      "==============================================================================\n",
      "                 coef    std err          t      P>|t|      [0.025      0.975]\n",
      "------------------------------------------------------------------------------\n",
      "const          4.2150      0.670      6.291      0.000       2.861       5.569\n",
      "TEDRATE       -9.2656      7.772     -1.192      0.240     -24.974       6.443\n",
      "==============================================================================\n",
      "Omnibus:                        4.901   Durbin-Watson:                   0.473\n",
      "Prob(Omnibus):                  0.086   Jarque-Bera (JB):                3.625\n",
      "Skew:                           0.570   Prob(JB):                        0.163\n",
      "Kurtosis:                       3.878   Cond. No.                         11.6\n",
      "==============================================================================\n",
      "\n",
      "Notes:\n",
      "[1] Standard Errors assume that the covariance matrix of the errors is correctly specified.\n",
      "262\n",
      "LXXRCSA\n",
      "sndif: 0\n",
      "ndif: 1\n",
      "304.8533520737878\n",
      "TEDRATE\n",
      "lags: 1\n",
      "sndif: 0\n",
      "ndif: 1\n"
     ]
    },
    {
     "data": {
      "image/png": "[encoded data removed]",
      "text/plain": [
       "<Figure size 432x288 with 2 Axes>"
      ]
     },
     "metadata": {
      "needs_background": "light"
     },
     "output_type": "display_data"
    },
    {
     "data": {
      "image/png": "[encoded data removed]",
      "text/plain": [
       "<Figure size 432x288 with 2 Axes>"
      ]
     },
     "metadata": {
      "needs_background": "light"
     },
     "output_type": "display_data"
    }
   ],
   "source": [
    "X = sm.add_constant(data_final.dropna()[set_])\n",
    "results = sm.OLS(data_final.dropna()[['target']],X).fit()\n",
    "\n",
    "print(results.summary())\n",
    "\n",
    "for s in range(0,len(set_)):\n",
    "    print(np.where(ccf_scores.columns==set_[s])[0][0])\n",
    "    \n",
    "inverses = []\n",
    "\n",
    "print(chosen)\n",
    "\n",
    "value = np.where(raw_int.columns==chosen)[0][0]\n",
    "\n",
    "#print(\n",
    "print('sndif:', sndif[value])\n",
    "print('ndif:', ndif[value])\n",
    "inverses.append([chosen,sndif[value],ndif[value]])\n",
    "\n",
    "train_forecast = results.predict(data_final[np.concatenate([['target'],set_])])\n",
    "test_forecast = results.predict(temp_test[np.concatenate([['target'],set_])])\n",
    "\n",
    "print(MAPE(temp_test['target'],test_forecast))\n",
    "\n",
    "index_ = []\n",
    "\n",
    "for w in set_:\n",
    "    print(w)\n",
    "    value = np.where(raw_int.columns==w)[0][0]\n",
    "    index_.append(value)\n",
    "    inverses.append([w,sndif[value],ndif[value]])\n",
    "    print('lags:', best_lags[np.where(ccf_scores.columns==set_[s])[0][0]])\n",
    "    print('sndif:', sndif[value])\n",
    "    print('ndif:', ndif[value])\n",
    "\n",
    "%matplotlib inline\n",
    "corrMatrix = pd.concat([temp_train['target'],temp_train[set_]],axis=1).corr().sort_values(kind=\"quicksort\", by='target', ascending=False,key=abs)\n",
    "sn.heatmap(corrMatrix, annot=True)\n",
    "plt.show()\n",
    "\n",
    "pcorrMatrix = pd.concat([temp_train['target'],temp_train[set_]],axis=1).pcorr().sort_values(kind=\"quicksort\", by='target', ascending=False,key=abs)\n",
    "sn.heatmap(pcorrMatrix, annot=True)\n",
    "plt.show()\n"
   ]
  },
  {
   "cell_type": "code",
   "execution_count": 86,
   "id": "b51702ec-ba0b-48f1-bdc5-6f22cae90e59",
   "metadata": {},
   "outputs": [
    {
     "data": {
      "text/plain": [
       "'\\n\\n\\nfuture = client.map(regress, X)\\n\\nresults = []\\nbest = -1\\nfor f in as_completed(future):\\n    results.append(f.result())\\n    \\ndef y_subset(df):\\n    \\n    X = list ()\\n    \\n    for var_pos in range(0,len(df.columns)):\\n        variables=df.columns\\n        target=variables[var_pos]\\n        #print(target)\\n        #print(variables.isin([target]))\\n        temp = pd.concat([pd.DataFrame(df[target]),df_.loc[:, ~df.columns.isin([target])]],axis=1)\\n        #print(temp)\\n        X.append(temp)\\n    return(X)\\n    '"
      ]
     },
     "execution_count": 86,
     "metadata": {},
     "output_type": "execute_result"
    }
   ],
   "source": [
    "'''\n",
    "\n",
    "\n",
    "future = client.map(regress, X)\n",
    "\n",
    "results = []\n",
    "best = -1\n",
    "for f in as_completed(future):\n",
    "    results.append(f.result())\n",
    "    \n",
    "def y_subset(df):\n",
    "    \n",
    "    X = list ()\n",
    "    \n",
    "    for var_pos in range(0,len(df.columns)):\n",
    "        variables=df.columns\n",
    "        target=variables[var_pos]\n",
    "        #print(target)\n",
    "        #print(variables.isin([target]))\n",
    "        temp = pd.concat([pd.DataFrame(df[target]),df_.loc[:, ~df.columns.isin([target])]],axis=1)\n",
    "        #print(temp)\n",
    "        X.append(temp)\n",
    "    return(X)\n",
    "    '''"
   ]
  },
  {
   "cell_type": "code",
   "execution_count": 87,
   "id": "b0f0d63e-85ca-449b-8390-aeeecb71313f",
   "metadata": {},
   "outputs": [
    {
     "ename": "SyntaxError",
     "evalue": "invalid syntax (3281715615.py, line 57)",
     "output_type": "error",
     "traceback": [
      "\u001b[0;36m  File \u001b[0;32m\"/tmp/ipykernel_78938/3281715615.py\"\u001b[0;36m, line \u001b[0;32m57\u001b[0m\n\u001b[0;31m    '''while(max_pvalue>=.05):\u001b[0m\n\u001b[0m       ^\u001b[0m\n\u001b[0;31mSyntaxError\u001b[0m\u001b[0;31m:\u001b[0m invalid syntax\n"
     ]
    }
   ],
   "source": [
    "'''\n",
    "scaler = StandardScaler()\n",
    "\n",
    "tscv = TimeSeriesSplit(n_splits = 5)\n",
    "\n",
    "#scaler.fit(np.array(data_final_dask_w_y[['target']].compute().loc[training]).reshape(-1, 1))\n",
    "\n",
    "New_Names = list(data_final_dask_w_y.columns.difference(['target']))\n",
    "\n",
    "outer_dataset = data_final_dask_w_y.compute().loc[training].dropna()\n",
    "target = outer_dataset[['target']]\n",
    "\n",
    "subset = pd.concat([target,outer_dataset[New_Names]],axis=1)\n",
    "\n",
    "num_folds = 2\n",
    "#kfold = KFold(n_splits=num_folds, shuffle=False)\n",
    "#train, test = kfold.get_n_splits(outer_dataset.index)\n",
    "\n",
    "p_threshold = .05\n",
    "\n",
    "iteration = 0\n",
    "max_pvalue = 1\n",
    "\n",
    "#\n",
    "    print(chosen)\n",
    "    \n",
    "    print(New_Names)\n",
    "    \n",
    "    n_p_values = pd.DataFrame()\n",
    "\n",
    "    p_values = []\n",
    "    \n",
    "    #parallelize here (x16)\n",
    "    for n in New_Names:\n",
    "        #print(n)\n",
    "        New_Names_testing = list(np.array(New_Names)[(np.array(New_Names)!=n)])\n",
    "        p_values.append(pvalues(n))\n",
    "        \n",
    "    p_values_df = pd.DataFrame(p_values,index=New_Names)\n",
    "    print(p_values_df)\n",
    "\n",
    "    max_pname = New_Names[np.argmax(p_values_df)]\n",
    "    max_pvalue = p_values[np.argmax(p_values_df)]\n",
    "\n",
    "    #n_p_values = pd.concat([n_p_values,p_values],axis=0)\n",
    "    #print(n_p_values)\n",
    "\n",
    "    if (max_pvalue > .05):\n",
    "        print([max_pname, max_pvalue])\n",
    "        #New_Names.remove(max_pname)\n",
    "        #New_Names_testing = list(np.array(New_Names_testing)[(np.array(New_Names_testing)!=max_pname)])\n",
    "        New_Names = list(np.array(New_Names)[(np.array(New_Names)!=max_pname)])\n",
    "        temp = ['target']\n",
    "        temp.extend(New_Names)\n",
    "        subset = subset[temp]\n",
    "    print()\n",
    "'''while(max_pvalue>=.05):\n"
   ]
  },
  {
   "cell_type": "code",
   "execution_count": null,
   "id": "40460a2a-3b85-4e98-a95e-792e089b57ad",
   "metadata": {},
   "outputs": [],
   "source": [
    "restartClientFunction()"
   ]
  },
  {
   "cell_type": "code",
   "execution_count": null,
   "id": "2c159e1b-117f-48fc-87f8-b402c6310ad8",
   "metadata": {},
   "outputs": [],
   "source": [
    "#data_temp = data_final_dask_w_y.compute()"
   ]
  },
  {
   "cell_type": "code",
   "execution_count": null,
   "id": "62f421c1-f54c-4de0-a658-f83efe327bac",
   "metadata": {},
   "outputs": [],
   "source": [
    "#subset[New_Names]"
   ]
  },
  {
   "cell_type": "code",
   "execution_count": null,
   "id": "340c1eec-b1c3-4ec2-9c10-4cdd03192cf6",
   "metadata": {},
   "outputs": [],
   "source": []
  },
  {
   "cell_type": "code",
   "execution_count": null,
   "id": "7523b67a-6bd8-46a1-91e7-345d9fc2f12a",
   "metadata": {},
   "outputs": [],
   "source": [
    "'''\n",
    "includes = []\n",
    "for c in subset.columns:\n",
    "    index = np.argwhere(data_final_dask_w_y.columns==c)[0][0]\n",
    "    includes.append(index)\n",
    "'''"
   ]
  },
  {
   "cell_type": "code",
   "execution_count": null,
   "id": "db12096a-43ea-4eff-aee9-1c47bb6230cd",
   "metadata": {},
   "outputs": [],
   "source": []
  },
  {
   "cell_type": "code",
   "execution_count": null,
   "id": "6b53efc9-e332-4828-b7b3-a8f3cf70118b",
   "metadata": {},
   "outputs": [],
   "source": [
    "#reg = train(data_final_dask_w_y[subset.columns].compute().loc[training].dropna())\n",
    "#subset.dropna()\n"
   ]
  },
  {
   "cell_type": "code",
   "execution_count": null,
   "id": "572f337a-3486-4c7e-b469-74ce5d877360",
   "metadata": {},
   "outputs": [],
   "source": [
    "#reg = regress(data_final_dask_w_y[subset.columns].compute().dropna())"
   ]
  },
  {
   "cell_type": "markdown",
   "id": "22abd359-b2e1-4af7-9a7d-8a3d17434be0",
   "metadata": {},
   "source": [
    "#### "
   ]
  }
 ],
 "metadata": {
  "kernelspec": {
   "display_name": "Python 3 (ipykernel)",
   "language": "python",
   "name": "python3"
  },
  "language_info": {
   "codemirror_mode": {
    "name": "ipython",
    "version": 3
   },
   "file_extension": ".py",
   "mimetype": "text/x-python",
   "name": "python",
   "nbconvert_exporter": "python",
   "pygments_lexer": "ipython3",
   "version": "3.9.9"
  }
 },
 "nbformat": 4,
 "nbformat_minor": 5
}
