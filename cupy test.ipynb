{
 "cells": [
  {
   "cell_type": "code",
   "execution_count": 7,
   "id": "686d29b9-68d4-4641-9ce5-ebb0bfb6d7f5",
   "metadata": {},
   "outputs": [],
   "source": [
    "from dask.distributed import Client\n",
    "from dask.distributed import as_completed\n",
    "import cupy as cp\n",
    "import dask.dataframe as dd\n",
    "import dask.array as da\n",
    "import numpy as np\n",
    "import torch"
   ]
  },
  {
   "cell_type": "code",
   "execution_count": 11,
   "id": "88175d6e-f05c-45ca-a04b-568e8bc88209",
   "metadata": {},
   "outputs": [],
   "source": [
    "client = Client('192.168.3.100:8786')\n",
    "#client.restart()\n",
    "client.close()"
   ]
  },
  {
   "cell_type": "code",
   "execution_count": null,
   "id": "e24c12c0-683b-41d5-9012-f02780896145",
   "metadata": {},
   "outputs": [],
   "source": [
    "\n",
    "# Stable implementation of log(1 + exp(x))\n",
    "def softplus(x):\n",
    "    \n",
    "\n",
    "    #print(\"Using:\", xp.__name__)   \n",
    "    if (torch.cuda.is_available()):\n",
    "        \n",
    "        rs = da.random.RandomState(RandomState=cp.random.RandomState)  # <-- we specify cupy here\n",
    "        xp = rs.normal(10, 1, size=(25, 25), chunks=(5, 5))\n",
    "        #return(x.compute())\n",
    "        \n",
    "        #xp = cp.get_array_module(x)  # 'xp' is a standard usage in the community\n",
    "        #return(x)\n",
    "        #return(np.array(cp.asnumpy(xp)))\n",
    "        #xp = (np.log1p(np.exp(-abs(xp))))\n",
    "        \n",
    "        return cp.asnumpy(xp)\n",
    "        \n",
    "        #return(1)\n",
    "        #return np.log1p(np.exp(-abs(x)))\n",
    "    else:\n",
    "        rs = da.random.RandomState()\n",
    "        xp = rs.normal(10, 1, size=(25, 25), chunks=(5, 5))\n",
    "        return(xp)\n",
    "        #xp = np.array(x)  # 'xp' is a standard usage in the community)\n",
    "        #return(x)\n",
    "        #return(0)\n",
    "        #return (np.log1p(np.exp(-abs(xp))))\n",
    "        \n",
    "    \n",
    "        \n",
    "#rs = da.random.RandomState()    \n",
    "#x = rs.normal(10, 1, size=(1000, 1000), chunks=(1000, 1000))\n",
    "\n",
    "\n",
    "client = Client('192.168.3.100:8786')\n",
    "#client.restart\n",
    "future = client.map(softplus, range(0,100), workers='CUDA')\n",
    "#future = client.map(softplus, range(0,100))\n",
    "#future = client.map(softplus, range(0,100), workers='CUDA')\n",
    "#future = client.map(softplus,range(0,2),resources={'GPU': 1},scheduler='single-threaded')\n",
    "\n",
    "#(x + 1)[::2, ::2].sum().compute(scheduler='single-threaded')\n",
    "\n",
    "results = []\n",
    "#best = -1\n",
    "for f in as_completed(future):\n",
    "    if(f.status==\"error\"):\n",
    "        results.append(\"error\")\n",
    "    else:\n",
    "        results.append(f.result())\n",
    "    print(f.result())\n",
    "\n",
    "client.close()\n"
   ]
  },
  {
   "cell_type": "code",
   "execution_count": null,
   "id": "24abe390-e57d-4378-a374-1baecfa60633",
   "metadata": {},
   "outputs": [],
   "source": [
    "results"
   ]
  },
  {
   "cell_type": "code",
   "execution_count": 33,
   "id": "0566f246-31b6-4ceb-ab91-5b8923373a24",
   "metadata": {},
   "outputs": [],
   "source": [
    "rs = da.random.RandomState(RandomState=cp.random.RandomState)  # <-- we specify cupy here\n",
    "x = rs.normal(10, 1, size=(500000, 500000), chunks=(10000, 10000))\n",
    "\n",
    "client_CUDA = Client('192.168.3.100:8786')\n",
    "\n",
    "future = client_CUDA.map(softplus, range(0,100), workers='CUDA')\n",
    "future = client_CUDA.map(softplus, range(0,100))\n",
    "#(x + 1)[::2, ::2].sum().compute(scheduler='single-threaded')"
   ]
  }
 ],
 "metadata": {
  "kernelspec": {
   "display_name": "Python 3 (ipykernel)",
   "language": "python",
   "name": "python3"
  },
  "language_info": {
   "codemirror_mode": {
    "name": "ipython",
    "version": 3
   },
   "file_extension": ".py",
   "mimetype": "text/x-python",
   "name": "python",
   "nbconvert_exporter": "python",
   "pygments_lexer": "ipython3",
   "version": "3.9.9"
  }
 },
 "nbformat": 4,
 "nbformat_minor": 5
}
