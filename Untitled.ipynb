{
 "cells": [
  {
   "cell_type": "code",
   "execution_count": null,
   "id": "e24c12c0-683b-41d5-9012-f02780896145",
   "metadata": {},
   "outputs": [],
   "source": [
    "from dask.distributed import Client\n",
    "from dask.distributed import as_completed\n",
    "import dask.dataframe as dd\n",
    "import dask.array as da\n",
    "\n",
    "client = Client('192.168.3.100:8786')\n",
    "rs = da.random.RandomState()\n",
    "x = rs.normal(10, 1, size=(500000, 500000), chunks=(10000, 10000))\n",
    "\n",
    "print(x.nbytes / 1e9)  # 2 TB\n",
    "(x + 1)[::2, ::2].sum().compute(scheduler='threads')"
   ]
  },
  {
   "cell_type": "code",
   "execution_count": null,
   "id": "47fd5830-d590-4592-ab76-1f1dd9a26e91",
   "metadata": {},
   "outputs": [],
   "source": [
    "client.map("
   ]
  }
 ],
 "metadata": {
  "kernelspec": {
   "display_name": "Python 3 (ipykernel)",
   "language": "python",
   "name": "python3"
  },
  "language_info": {
   "codemirror_mode": {
    "name": "ipython",
    "version": 3
   },
   "file_extension": ".py",
   "mimetype": "text/x-python",
   "name": "python",
   "nbconvert_exporter": "python",
   "pygments_lexer": "ipython3",
   "version": "3.9.9"
  }
 },
 "nbformat": 4,
 "nbformat_minor": 5
}
